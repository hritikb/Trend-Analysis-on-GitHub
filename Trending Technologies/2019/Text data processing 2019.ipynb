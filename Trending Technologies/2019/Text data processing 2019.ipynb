{
 "cells": [
  {
   "cell_type": "code",
   "execution_count": 1,
   "metadata": {},
   "outputs": [],
   "source": [
    "import pandas as pd\n",
    "import string"
   ]
  },
  {
   "cell_type": "code",
   "execution_count": 2,
   "metadata": {},
   "outputs": [],
   "source": [
    "df = pd.read_csv(\"Github_repo_data_2019_with_lang_column.csv\")"
   ]
  },
  {
   "cell_type": "code",
   "execution_count": 3,
   "metadata": {},
   "outputs": [
    {
     "data": {
      "text/html": [
       "<div>\n",
       "<style scoped>\n",
       "    .dataframe tbody tr th:only-of-type {\n",
       "        vertical-align: middle;\n",
       "    }\n",
       "\n",
       "    .dataframe tbody tr th {\n",
       "        vertical-align: top;\n",
       "    }\n",
       "\n",
       "    .dataframe thead th {\n",
       "        text-align: right;\n",
       "    }\n",
       "</style>\n",
       "<table border=\"1\" class=\"dataframe\">\n",
       "  <thead>\n",
       "    <tr style=\"text-align: right;\">\n",
       "      <th></th>\n",
       "      <th>Unnamed: 0</th>\n",
       "      <th>id</th>\n",
       "      <th>node_id</th>\n",
       "      <th>name</th>\n",
       "      <th>full_name</th>\n",
       "      <th>private</th>\n",
       "      <th>html_url</th>\n",
       "      <th>description</th>\n",
       "      <th>fork</th>\n",
       "      <th>url</th>\n",
       "      <th>...</th>\n",
       "      <th>owner.received_events_url</th>\n",
       "      <th>owner.type</th>\n",
       "      <th>owner.site_admin</th>\n",
       "      <th>license.key</th>\n",
       "      <th>license.name</th>\n",
       "      <th>license.spdx_id</th>\n",
       "      <th>license.url</th>\n",
       "      <th>license.node_id</th>\n",
       "      <th>license</th>\n",
       "      <th>lang</th>\n",
       "    </tr>\n",
       "  </thead>\n",
       "  <tbody>\n",
       "    <tr>\n",
       "      <th>0</th>\n",
       "      <td>0</td>\n",
       "      <td>177736533</td>\n",
       "      <td>MDEwOlJlcG9zaXRvcnkxNzc3MzY1MzM=</td>\n",
       "      <td>996.ICU</td>\n",
       "      <td>996icu/996.ICU</td>\n",
       "      <td>False</td>\n",
       "      <td>https://github.com/996icu/996.ICU</td>\n",
       "      <td>Repo for counting stars and contributing. Pres...</td>\n",
       "      <td>False</td>\n",
       "      <td>https://api.github.com/repos/996icu/996.ICU</td>\n",
       "      <td>...</td>\n",
       "      <td>https://api.github.com/users/996icu/received_e...</td>\n",
       "      <td>User</td>\n",
       "      <td>False</td>\n",
       "      <td>other</td>\n",
       "      <td>Other</td>\n",
       "      <td>NOASSERTION</td>\n",
       "      <td>NaN</td>\n",
       "      <td>MDc6TGljZW5zZTA=</td>\n",
       "      <td>NaN</td>\n",
       "      <td>en</td>\n",
       "    </tr>\n",
       "    <tr>\n",
       "      <th>1</th>\n",
       "      <td>1</td>\n",
       "      <td>189621607</td>\n",
       "      <td>MDEwOlJlcG9zaXRvcnkxODk2MjE2MDc=</td>\n",
       "      <td>docs</td>\n",
       "      <td>github/docs</td>\n",
       "      <td>False</td>\n",
       "      <td>https://github.com/github/docs</td>\n",
       "      <td>The open-source repo for docs.github.com</td>\n",
       "      <td>False</td>\n",
       "      <td>https://api.github.com/repos/github/docs</td>\n",
       "      <td>...</td>\n",
       "      <td>https://api.github.com/users/github/received_e...</td>\n",
       "      <td>Organization</td>\n",
       "      <td>False</td>\n",
       "      <td>other</td>\n",
       "      <td>Other</td>\n",
       "      <td>NOASSERTION</td>\n",
       "      <td>NaN</td>\n",
       "      <td>MDc6TGljZW5zZTA=</td>\n",
       "      <td>NaN</td>\n",
       "      <td>en</td>\n",
       "    </tr>\n",
       "    <tr>\n",
       "      <th>2</th>\n",
       "      <td>2</td>\n",
       "      <td>228683419</td>\n",
       "      <td>MDEwOlJlcG9zaXRvcnkyMjg2ODM0MTk=</td>\n",
       "      <td>it-cert-automation-practice</td>\n",
       "      <td>google/it-cert-automation-practice</td>\n",
       "      <td>False</td>\n",
       "      <td>https://github.com/google/it-cert-automation-p...</td>\n",
       "      <td>Google IT Automation with Python Professional ...</td>\n",
       "      <td>False</td>\n",
       "      <td>https://api.github.com/repos/google/it-cert-au...</td>\n",
       "      <td>...</td>\n",
       "      <td>https://api.github.com/users/google/received_e...</td>\n",
       "      <td>Organization</td>\n",
       "      <td>False</td>\n",
       "      <td>apache-2.0</td>\n",
       "      <td>Apache License 2.0</td>\n",
       "      <td>Apache-2.0</td>\n",
       "      <td>https://api.github.com/licenses/apache-2.0</td>\n",
       "      <td>MDc6TGljZW5zZTI=</td>\n",
       "      <td>NaN</td>\n",
       "      <td>en</td>\n",
       "    </tr>\n",
       "    <tr>\n",
       "      <th>3</th>\n",
       "      <td>3</td>\n",
       "      <td>212094940</td>\n",
       "      <td>MDEwOlJlcG9zaXRvcnkyMTIwOTQ5NDA=</td>\n",
       "      <td>DO180-apps</td>\n",
       "      <td>RedHatTraining/DO180-apps</td>\n",
       "      <td>False</td>\n",
       "      <td>https://github.com/RedHatTraining/DO180-apps</td>\n",
       "      <td>DO180 Repository for Sample Applications</td>\n",
       "      <td>False</td>\n",
       "      <td>https://api.github.com/repos/RedHatTraining/DO...</td>\n",
       "      <td>...</td>\n",
       "      <td>https://api.github.com/users/RedHatTraining/re...</td>\n",
       "      <td>Organization</td>\n",
       "      <td>False</td>\n",
       "      <td>NaN</td>\n",
       "      <td>NaN</td>\n",
       "      <td>NaN</td>\n",
       "      <td>NaN</td>\n",
       "      <td>NaN</td>\n",
       "      <td>NaN</td>\n",
       "      <td>en</td>\n",
       "    </tr>\n",
       "    <tr>\n",
       "      <th>4</th>\n",
       "      <td>4</td>\n",
       "      <td>177216275</td>\n",
       "      <td>MDEwOlJlcG9zaXRvcnkxNzcyMTYyNzU=</td>\n",
       "      <td>mslearn-tailspin-spacegame-web</td>\n",
       "      <td>MicrosoftDocs/mslearn-tailspin-spacegame-web</td>\n",
       "      <td>False</td>\n",
       "      <td>https://github.com/MicrosoftDocs/mslearn-tails...</td>\n",
       "      <td>Code used in Microsoft Learn modules to suppor...</td>\n",
       "      <td>False</td>\n",
       "      <td>https://api.github.com/repos/MicrosoftDocs/msl...</td>\n",
       "      <td>...</td>\n",
       "      <td>https://api.github.com/users/MicrosoftDocs/rec...</td>\n",
       "      <td>Organization</td>\n",
       "      <td>False</td>\n",
       "      <td>other</td>\n",
       "      <td>Other</td>\n",
       "      <td>NOASSERTION</td>\n",
       "      <td>NaN</td>\n",
       "      <td>MDc6TGljZW5zZTA=</td>\n",
       "      <td>NaN</td>\n",
       "      <td>en</td>\n",
       "    </tr>\n",
       "  </tbody>\n",
       "</table>\n",
       "<p>5 rows × 98 columns</p>\n",
       "</div>"
      ],
      "text/plain": [
       "   Unnamed: 0         id                           node_id  \\\n",
       "0           0  177736533  MDEwOlJlcG9zaXRvcnkxNzc3MzY1MzM=   \n",
       "1           1  189621607  MDEwOlJlcG9zaXRvcnkxODk2MjE2MDc=   \n",
       "2           2  228683419  MDEwOlJlcG9zaXRvcnkyMjg2ODM0MTk=   \n",
       "3           3  212094940  MDEwOlJlcG9zaXRvcnkyMTIwOTQ5NDA=   \n",
       "4           4  177216275  MDEwOlJlcG9zaXRvcnkxNzcyMTYyNzU=   \n",
       "\n",
       "                             name  \\\n",
       "0                         996.ICU   \n",
       "1                            docs   \n",
       "2     it-cert-automation-practice   \n",
       "3                      DO180-apps   \n",
       "4  mslearn-tailspin-spacegame-web   \n",
       "\n",
       "                                      full_name  private  \\\n",
       "0                                996icu/996.ICU    False   \n",
       "1                                   github/docs    False   \n",
       "2            google/it-cert-automation-practice    False   \n",
       "3                     RedHatTraining/DO180-apps    False   \n",
       "4  MicrosoftDocs/mslearn-tailspin-spacegame-web    False   \n",
       "\n",
       "                                            html_url  \\\n",
       "0                  https://github.com/996icu/996.ICU   \n",
       "1                     https://github.com/github/docs   \n",
       "2  https://github.com/google/it-cert-automation-p...   \n",
       "3       https://github.com/RedHatTraining/DO180-apps   \n",
       "4  https://github.com/MicrosoftDocs/mslearn-tails...   \n",
       "\n",
       "                                         description   fork  \\\n",
       "0  Repo for counting stars and contributing. Pres...  False   \n",
       "1           The open-source repo for docs.github.com  False   \n",
       "2  Google IT Automation with Python Professional ...  False   \n",
       "3           DO180 Repository for Sample Applications  False   \n",
       "4  Code used in Microsoft Learn modules to suppor...  False   \n",
       "\n",
       "                                                 url  ...  \\\n",
       "0        https://api.github.com/repos/996icu/996.ICU  ...   \n",
       "1           https://api.github.com/repos/github/docs  ...   \n",
       "2  https://api.github.com/repos/google/it-cert-au...  ...   \n",
       "3  https://api.github.com/repos/RedHatTraining/DO...  ...   \n",
       "4  https://api.github.com/repos/MicrosoftDocs/msl...  ...   \n",
       "\n",
       "                           owner.received_events_url    owner.type  \\\n",
       "0  https://api.github.com/users/996icu/received_e...          User   \n",
       "1  https://api.github.com/users/github/received_e...  Organization   \n",
       "2  https://api.github.com/users/google/received_e...  Organization   \n",
       "3  https://api.github.com/users/RedHatTraining/re...  Organization   \n",
       "4  https://api.github.com/users/MicrosoftDocs/rec...  Organization   \n",
       "\n",
       "  owner.site_admin license.key        license.name license.spdx_id  \\\n",
       "0            False       other               Other     NOASSERTION   \n",
       "1            False       other               Other     NOASSERTION   \n",
       "2            False  apache-2.0  Apache License 2.0      Apache-2.0   \n",
       "3            False         NaN                 NaN             NaN   \n",
       "4            False       other               Other     NOASSERTION   \n",
       "\n",
       "                                  license.url   license.node_id license lang  \n",
       "0                                         NaN  MDc6TGljZW5zZTA=     NaN   en  \n",
       "1                                         NaN  MDc6TGljZW5zZTA=     NaN   en  \n",
       "2  https://api.github.com/licenses/apache-2.0  MDc6TGljZW5zZTI=     NaN   en  \n",
       "3                                         NaN               NaN     NaN   en  \n",
       "4                                         NaN  MDc6TGljZW5zZTA=     NaN   en  \n",
       "\n",
       "[5 rows x 98 columns]"
      ]
     },
     "execution_count": 3,
     "metadata": {},
     "output_type": "execute_result"
    }
   ],
   "source": [
    "df.head()"
   ]
  },
  {
   "cell_type": "code",
   "execution_count": 4,
   "metadata": {},
   "outputs": [],
   "source": [
    "#Keeping only the repos with english descriptions \n",
    "\n",
    "df = df[df['lang'] == 'en']"
   ]
  },
  {
   "cell_type": "code",
   "execution_count": 5,
   "metadata": {},
   "outputs": [
    {
     "name": "stderr",
     "output_type": "stream",
     "text": [
      "[nltk_data] Downloading package stopwords to\n",
      "[nltk_data]     C:\\Users\\HP\\AppData\\Roaming\\nltk_data...\n",
      "[nltk_data]   Package stopwords is already up-to-date!\n",
      "[nltk_data] Downloading package punkt to\n",
      "[nltk_data]     C:\\Users\\HP\\AppData\\Roaming\\nltk_data...\n",
      "[nltk_data]   Package punkt is already up-to-date!\n"
     ]
    },
    {
     "data": {
      "text/plain": [
       "True"
      ]
     },
     "execution_count": 5,
     "metadata": {},
     "output_type": "execute_result"
    }
   ],
   "source": [
    "import nltk\n",
    "from nltk import word_tokenize\n",
    "from nltk.corpus import stopwords\n",
    "nltk.download('stopwords')\n",
    "nltk.download('punkt')\n",
    "\n",
    "#stopwords in a language are those words that do not add much meaning to a sentence and hence can be ignored."
   ]
  },
  {
   "cell_type": "code",
   "execution_count": 6,
   "metadata": {},
   "outputs": [],
   "source": [
    "#now we define a function for tokenization\n",
    "\n",
    "def clean(text = '', stopwords = []):\n",
    "    #tokenize\n",
    "    tokens = word_tokenize(text.strip())      #Returns syllables (or vaguely words, numbers and punctuation marks) as a list.\n",
    "    \n",
    "    #lowercase\n",
    "    clean = [i.lower() for i in tokens]\n",
    "    \n",
    "    #remove stopwords\n",
    "    clean = [i for i in clean if i not in stopwords]  #Makes the list free from stopwords like this, is etc.\n",
    "    \n",
    "    #remove punctuation\n",
    "    punctuations = list(string.punctuation)  #returns a list of punctuation\n",
    "    clean = [i.strip(''.join(punctuations)) for i in clean if i not in punctuations]   #Makes the list free from punctuations\n",
    "    \n",
    "    return ' '.join(clean)"
   ]
  },
  {
   "cell_type": "code",
   "execution_count": 7,
   "metadata": {},
   "outputs": [],
   "source": [
    "#Now we create a new column 'clean' containing cleaned English descriptions\n",
    "\n",
    "df['clean'] = df['description'].apply(str)  #make sure description is a string.\n",
    "df['clean'] = df['clean'].apply(lambda x: clean(text = x, stopwords = stopwords.words('english')))\n",
    "\n",
    "df.to_csv('Github_Data_2019_ready_for_text_analysis.csv', index = False)"
   ]
  },
  {
   "cell_type": "markdown",
   "metadata": {},
   "source": [
    "# We get column 'clean' which is ready for analysis #"
   ]
  },
  {
   "cell_type": "code",
   "execution_count": 8,
   "metadata": {},
   "outputs": [
    {
     "data": {
      "text/plain": [
       "0    repo counting stars contributing press f pay r...\n",
       "1                     open-source repo docs.github.com\n",
       "2    google automation python professional certific...\n",
       "3                 do180 repository sample applications\n",
       "4    code used microsoft learn modules support azur...\n",
       "Name: clean, dtype: object"
      ]
     },
     "execution_count": 8,
     "metadata": {},
     "output_type": "execute_result"
    }
   ],
   "source": [
    "df['clean'].head()"
   ]
  },
  {
   "cell_type": "markdown",
   "metadata": {},
   "source": [
    "# Look at the code below to understand the function clean more clearly#"
   ]
  },
  {
   "cell_type": "code",
   "execution_count": 61,
   "metadata": {},
   "outputs": [
    {
     "data": {
      "text/plain": [
       "['hello',\n",
       " ',',\n",
       " 'this',\n",
       " '1',\n",
       " 'sentence',\n",
       " 'is',\n",
       " 'just',\n",
       " 'for',\n",
       " 'understanding',\n",
       " 'the',\n",
       " 'function',\n",
       " '.']"
      ]
     },
     "execution_count": 61,
     "metadata": {},
     "output_type": "execute_result"
    }
   ],
   "source": [
    "line = \"hello, this 1 sentence is just for understanding the function.       \"\n",
    "tok = word_tokenize(line.strip())\n",
    "tok"
   ]
  },
  {
   "cell_type": "code",
   "execution_count": 62,
   "metadata": {},
   "outputs": [],
   "source": [
    "cle = [i for i in tok if i not in stopwords.words('english')]"
   ]
  },
  {
   "cell_type": "code",
   "execution_count": 63,
   "metadata": {},
   "outputs": [
    {
     "data": {
      "text/plain": [
       "['hello', ',', '1', 'sentence', 'understanding', 'function', '.']"
      ]
     },
     "execution_count": 63,
     "metadata": {},
     "output_type": "execute_result"
    }
   ],
   "source": [
    "cle"
   ]
  },
  {
   "cell_type": "code",
   "execution_count": 66,
   "metadata": {},
   "outputs": [
    {
     "data": {
      "text/plain": [
       "['hello', '1', 'sentence', 'understanding', 'function']"
      ]
     },
     "execution_count": 66,
     "metadata": {},
     "output_type": "execute_result"
    }
   ],
   "source": [
    "punctuations = list(string.punctuation)\n",
    "cle = [i.strip(''.join(punctuations)) for i in cle if i not in punctuations]\n",
    "cle"
   ]
  },
  {
   "cell_type": "code",
   "execution_count": 67,
   "metadata": {},
   "outputs": [
    {
     "data": {
      "text/plain": [
       "'hello 1 sentence understanding function'"
      ]
     },
     "execution_count": 67,
     "metadata": {},
     "output_type": "execute_result"
    }
   ],
   "source": [
    "' '.join(cle)"
   ]
  },
  {
   "cell_type": "code",
   "execution_count": null,
   "metadata": {},
   "outputs": [],
   "source": []
  }
 ],
 "metadata": {
  "kernelspec": {
   "display_name": "Python 3",
   "language": "python",
   "name": "python3"
  },
  "language_info": {
   "codemirror_mode": {
    "name": "ipython",
    "version": 3
   },
   "file_extension": ".py",
   "mimetype": "text/x-python",
   "name": "python",
   "nbconvert_exporter": "python",
   "pygments_lexer": "ipython3",
   "version": "3.7.7"
  }
 },
 "nbformat": 4,
 "nbformat_minor": 4
}
