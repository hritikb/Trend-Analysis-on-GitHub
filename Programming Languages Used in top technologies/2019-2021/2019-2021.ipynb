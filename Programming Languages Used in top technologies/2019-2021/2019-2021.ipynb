{
 "cells": [
  {
   "cell_type": "markdown",
   "metadata": {},
   "source": [
    "### Considering the Trending Technologies we will choose some of them to see which programming languages are mostly used for them."
   ]
  },
  {
   "cell_type": "code",
   "execution_count": 1,
   "metadata": {},
   "outputs": [],
   "source": [
    "import pandas as pd"
   ]
  },
  {
   "cell_type": "code",
   "execution_count": 7,
   "metadata": {},
   "outputs": [],
   "source": [
    "df = pd.read_csv('Github_Data_2019-2021_ready_for_text_analysis.csv')"
   ]
  },
  {
   "cell_type": "code",
   "execution_count": 8,
   "metadata": {},
   "outputs": [],
   "source": [
    "focus = ['open source', 'deep learning', 'data science', 'machine learning', 'guided project', 'web development',\n",
    "         'starter project']"
   ]
  },
  {
   "cell_type": "code",
   "execution_count": 12,
   "metadata": {},
   "outputs": [
    {
     "name": "stdout",
     "output_type": "stream",
     "text": [
      "\n",
      "For open source :  [nan, 'Jupyter Notebook', 'HTML', 'Java']\n",
      "\n",
      "For deep learning :  []\n",
      "\n",
      "For data science :  [nan, 'Python']\n",
      "\n",
      "For machine learning :  ['Jupyter Notebook']\n",
      "\n",
      "For guided project :  ['JavaScript']\n",
      "\n",
      "For web development :  ['Python', 'Java']\n",
      "\n",
      "For starter project :  ['Jupyter Notebook', 'Swift']\n"
     ]
    }
   ],
   "source": [
    "for tech in focus:\n",
    "    print('\\nFor ' +tech + ' : ', list(set(df[df['clean'].str.contains(tech)]['language'])))"
   ]
  },
  {
   "cell_type": "code",
   "execution_count": null,
   "metadata": {},
   "outputs": [],
   "source": []
  }
 ],
 "metadata": {
  "kernelspec": {
   "display_name": "Python 3",
   "language": "python",
   "name": "python3"
  },
  "language_info": {
   "codemirror_mode": {
    "name": "ipython",
    "version": 3
   },
   "file_extension": ".py",
   "mimetype": "text/x-python",
   "name": "python",
   "nbconvert_exporter": "python",
   "pygments_lexer": "ipython3",
   "version": "3.7.7"
  }
 },
 "nbformat": 4,
 "nbformat_minor": 4
}
