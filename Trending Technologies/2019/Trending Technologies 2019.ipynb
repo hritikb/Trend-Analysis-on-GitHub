{
 "cells": [
  {
   "cell_type": "code",
   "execution_count": 1,
   "metadata": {},
   "outputs": [],
   "source": [
    "import pandas as pd"
   ]
  },
  {
   "cell_type": "code",
   "execution_count": 2,
   "metadata": {},
   "outputs": [],
   "source": [
    "df = pd.read_csv('Github_Data_2019_ready_for_text_analysis.csv')"
   ]
  },
  {
   "cell_type": "code",
   "execution_count": 3,
   "metadata": {},
   "outputs": [
    {
     "data": {
      "text/html": [
       "<div>\n",
       "<style scoped>\n",
       "    .dataframe tbody tr th:only-of-type {\n",
       "        vertical-align: middle;\n",
       "    }\n",
       "\n",
       "    .dataframe tbody tr th {\n",
       "        vertical-align: top;\n",
       "    }\n",
       "\n",
       "    .dataframe thead th {\n",
       "        text-align: right;\n",
       "    }\n",
       "</style>\n",
       "<table border=\"1\" class=\"dataframe\">\n",
       "  <thead>\n",
       "    <tr style=\"text-align: right;\">\n",
       "      <th></th>\n",
       "      <th>Unnamed: 0</th>\n",
       "      <th>id</th>\n",
       "      <th>node_id</th>\n",
       "      <th>name</th>\n",
       "      <th>full_name</th>\n",
       "      <th>private</th>\n",
       "      <th>html_url</th>\n",
       "      <th>description</th>\n",
       "      <th>fork</th>\n",
       "      <th>url</th>\n",
       "      <th>...</th>\n",
       "      <th>owner.type</th>\n",
       "      <th>owner.site_admin</th>\n",
       "      <th>license.key</th>\n",
       "      <th>license.name</th>\n",
       "      <th>license.spdx_id</th>\n",
       "      <th>license.url</th>\n",
       "      <th>license.node_id</th>\n",
       "      <th>license</th>\n",
       "      <th>lang</th>\n",
       "      <th>clean</th>\n",
       "    </tr>\n",
       "  </thead>\n",
       "  <tbody>\n",
       "    <tr>\n",
       "      <th>0</th>\n",
       "      <td>0</td>\n",
       "      <td>177736533</td>\n",
       "      <td>MDEwOlJlcG9zaXRvcnkxNzc3MzY1MzM=</td>\n",
       "      <td>996.ICU</td>\n",
       "      <td>996icu/996.ICU</td>\n",
       "      <td>False</td>\n",
       "      <td>https://github.com/996icu/996.ICU</td>\n",
       "      <td>Repo for counting stars and contributing. Pres...</td>\n",
       "      <td>False</td>\n",
       "      <td>https://api.github.com/repos/996icu/996.ICU</td>\n",
       "      <td>...</td>\n",
       "      <td>User</td>\n",
       "      <td>False</td>\n",
       "      <td>other</td>\n",
       "      <td>Other</td>\n",
       "      <td>NOASSERTION</td>\n",
       "      <td>NaN</td>\n",
       "      <td>MDc6TGljZW5zZTA=</td>\n",
       "      <td>NaN</td>\n",
       "      <td>en</td>\n",
       "      <td>repo counting stars contributing press f pay r...</td>\n",
       "    </tr>\n",
       "    <tr>\n",
       "      <th>1</th>\n",
       "      <td>1</td>\n",
       "      <td>189621607</td>\n",
       "      <td>MDEwOlJlcG9zaXRvcnkxODk2MjE2MDc=</td>\n",
       "      <td>docs</td>\n",
       "      <td>github/docs</td>\n",
       "      <td>False</td>\n",
       "      <td>https://github.com/github/docs</td>\n",
       "      <td>The open-source repo for docs.github.com</td>\n",
       "      <td>False</td>\n",
       "      <td>https://api.github.com/repos/github/docs</td>\n",
       "      <td>...</td>\n",
       "      <td>Organization</td>\n",
       "      <td>False</td>\n",
       "      <td>other</td>\n",
       "      <td>Other</td>\n",
       "      <td>NOASSERTION</td>\n",
       "      <td>NaN</td>\n",
       "      <td>MDc6TGljZW5zZTA=</td>\n",
       "      <td>NaN</td>\n",
       "      <td>en</td>\n",
       "      <td>open-source repo docs.github.com</td>\n",
       "    </tr>\n",
       "    <tr>\n",
       "      <th>2</th>\n",
       "      <td>2</td>\n",
       "      <td>228683419</td>\n",
       "      <td>MDEwOlJlcG9zaXRvcnkyMjg2ODM0MTk=</td>\n",
       "      <td>it-cert-automation-practice</td>\n",
       "      <td>google/it-cert-automation-practice</td>\n",
       "      <td>False</td>\n",
       "      <td>https://github.com/google/it-cert-automation-p...</td>\n",
       "      <td>Google IT Automation with Python Professional ...</td>\n",
       "      <td>False</td>\n",
       "      <td>https://api.github.com/repos/google/it-cert-au...</td>\n",
       "      <td>...</td>\n",
       "      <td>Organization</td>\n",
       "      <td>False</td>\n",
       "      <td>apache-2.0</td>\n",
       "      <td>Apache License 2.0</td>\n",
       "      <td>Apache-2.0</td>\n",
       "      <td>https://api.github.com/licenses/apache-2.0</td>\n",
       "      <td>MDc6TGljZW5zZTI=</td>\n",
       "      <td>NaN</td>\n",
       "      <td>en</td>\n",
       "      <td>google automation python professional certific...</td>\n",
       "    </tr>\n",
       "    <tr>\n",
       "      <th>3</th>\n",
       "      <td>3</td>\n",
       "      <td>212094940</td>\n",
       "      <td>MDEwOlJlcG9zaXRvcnkyMTIwOTQ5NDA=</td>\n",
       "      <td>DO180-apps</td>\n",
       "      <td>RedHatTraining/DO180-apps</td>\n",
       "      <td>False</td>\n",
       "      <td>https://github.com/RedHatTraining/DO180-apps</td>\n",
       "      <td>DO180 Repository for Sample Applications</td>\n",
       "      <td>False</td>\n",
       "      <td>https://api.github.com/repos/RedHatTraining/DO...</td>\n",
       "      <td>...</td>\n",
       "      <td>Organization</td>\n",
       "      <td>False</td>\n",
       "      <td>NaN</td>\n",
       "      <td>NaN</td>\n",
       "      <td>NaN</td>\n",
       "      <td>NaN</td>\n",
       "      <td>NaN</td>\n",
       "      <td>NaN</td>\n",
       "      <td>en</td>\n",
       "      <td>do180 repository sample applications</td>\n",
       "    </tr>\n",
       "    <tr>\n",
       "      <th>4</th>\n",
       "      <td>4</td>\n",
       "      <td>177216275</td>\n",
       "      <td>MDEwOlJlcG9zaXRvcnkxNzcyMTYyNzU=</td>\n",
       "      <td>mslearn-tailspin-spacegame-web</td>\n",
       "      <td>MicrosoftDocs/mslearn-tailspin-spacegame-web</td>\n",
       "      <td>False</td>\n",
       "      <td>https://github.com/MicrosoftDocs/mslearn-tails...</td>\n",
       "      <td>Code used in Microsoft Learn modules to suppor...</td>\n",
       "      <td>False</td>\n",
       "      <td>https://api.github.com/repos/MicrosoftDocs/msl...</td>\n",
       "      <td>...</td>\n",
       "      <td>Organization</td>\n",
       "      <td>False</td>\n",
       "      <td>other</td>\n",
       "      <td>Other</td>\n",
       "      <td>NOASSERTION</td>\n",
       "      <td>NaN</td>\n",
       "      <td>MDc6TGljZW5zZTA=</td>\n",
       "      <td>NaN</td>\n",
       "      <td>en</td>\n",
       "      <td>code used microsoft learn modules support azur...</td>\n",
       "    </tr>\n",
       "  </tbody>\n",
       "</table>\n",
       "<p>5 rows × 99 columns</p>\n",
       "</div>"
      ],
      "text/plain": [
       "   Unnamed: 0         id                           node_id  \\\n",
       "0           0  177736533  MDEwOlJlcG9zaXRvcnkxNzc3MzY1MzM=   \n",
       "1           1  189621607  MDEwOlJlcG9zaXRvcnkxODk2MjE2MDc=   \n",
       "2           2  228683419  MDEwOlJlcG9zaXRvcnkyMjg2ODM0MTk=   \n",
       "3           3  212094940  MDEwOlJlcG9zaXRvcnkyMTIwOTQ5NDA=   \n",
       "4           4  177216275  MDEwOlJlcG9zaXRvcnkxNzcyMTYyNzU=   \n",
       "\n",
       "                             name  \\\n",
       "0                         996.ICU   \n",
       "1                            docs   \n",
       "2     it-cert-automation-practice   \n",
       "3                      DO180-apps   \n",
       "4  mslearn-tailspin-spacegame-web   \n",
       "\n",
       "                                      full_name  private  \\\n",
       "0                                996icu/996.ICU    False   \n",
       "1                                   github/docs    False   \n",
       "2            google/it-cert-automation-practice    False   \n",
       "3                     RedHatTraining/DO180-apps    False   \n",
       "4  MicrosoftDocs/mslearn-tailspin-spacegame-web    False   \n",
       "\n",
       "                                            html_url  \\\n",
       "0                  https://github.com/996icu/996.ICU   \n",
       "1                     https://github.com/github/docs   \n",
       "2  https://github.com/google/it-cert-automation-p...   \n",
       "3       https://github.com/RedHatTraining/DO180-apps   \n",
       "4  https://github.com/MicrosoftDocs/mslearn-tails...   \n",
       "\n",
       "                                         description   fork  \\\n",
       "0  Repo for counting stars and contributing. Pres...  False   \n",
       "1           The open-source repo for docs.github.com  False   \n",
       "2  Google IT Automation with Python Professional ...  False   \n",
       "3           DO180 Repository for Sample Applications  False   \n",
       "4  Code used in Microsoft Learn modules to suppor...  False   \n",
       "\n",
       "                                                 url  ...    owner.type  \\\n",
       "0        https://api.github.com/repos/996icu/996.ICU  ...          User   \n",
       "1           https://api.github.com/repos/github/docs  ...  Organization   \n",
       "2  https://api.github.com/repos/google/it-cert-au...  ...  Organization   \n",
       "3  https://api.github.com/repos/RedHatTraining/DO...  ...  Organization   \n",
       "4  https://api.github.com/repos/MicrosoftDocs/msl...  ...  Organization   \n",
       "\n",
       "  owner.site_admin license.key        license.name license.spdx_id  \\\n",
       "0            False       other               Other     NOASSERTION   \n",
       "1            False       other               Other     NOASSERTION   \n",
       "2            False  apache-2.0  Apache License 2.0      Apache-2.0   \n",
       "3            False         NaN                 NaN             NaN   \n",
       "4            False       other               Other     NOASSERTION   \n",
       "\n",
       "                                  license.url   license.node_id license lang  \\\n",
       "0                                         NaN  MDc6TGljZW5zZTA=     NaN   en   \n",
       "1                                         NaN  MDc6TGljZW5zZTA=     NaN   en   \n",
       "2  https://api.github.com/licenses/apache-2.0  MDc6TGljZW5zZTI=     NaN   en   \n",
       "3                                         NaN               NaN     NaN   en   \n",
       "4                                         NaN  MDc6TGljZW5zZTA=     NaN   en   \n",
       "\n",
       "                                               clean  \n",
       "0  repo counting stars contributing press f pay r...  \n",
       "1                   open-source repo docs.github.com  \n",
       "2  google automation python professional certific...  \n",
       "3               do180 repository sample applications  \n",
       "4  code used microsoft learn modules support azur...  \n",
       "\n",
       "[5 rows x 99 columns]"
      ]
     },
     "execution_count": 3,
     "metadata": {},
     "output_type": "execute_result"
    }
   ],
   "source": [
    "df.head()"
   ]
  },
  {
   "cell_type": "markdown",
   "metadata": {},
   "source": [
    "# Numerical Data"
   ]
  },
  {
   "cell_type": "code",
   "execution_count": 4,
   "metadata": {},
   "outputs": [
    {
     "data": {
      "text/html": [
       "<div>\n",
       "<style scoped>\n",
       "    .dataframe tbody tr th:only-of-type {\n",
       "        vertical-align: middle;\n",
       "    }\n",
       "\n",
       "    .dataframe tbody tr th {\n",
       "        vertical-align: top;\n",
       "    }\n",
       "\n",
       "    .dataframe thead th {\n",
       "        text-align: right;\n",
       "    }\n",
       "</style>\n",
       "<table border=\"1\" class=\"dataframe\">\n",
       "  <thead>\n",
       "    <tr style=\"text-align: right;\">\n",
       "      <th></th>\n",
       "      <th>watchers_count</th>\n",
       "      <th>size</th>\n",
       "      <th>forks_count</th>\n",
       "      <th>open_issues</th>\n",
       "    </tr>\n",
       "  </thead>\n",
       "  <tbody>\n",
       "    <tr>\n",
       "      <th>count</th>\n",
       "      <td>545.000000</td>\n",
       "      <td>5.450000e+02</td>\n",
       "      <td>545.000000</td>\n",
       "      <td>545.000000</td>\n",
       "    </tr>\n",
       "    <tr>\n",
       "      <th>mean</th>\n",
       "      <td>5197.201835</td>\n",
       "      <td>7.076932e+04</td>\n",
       "      <td>1433.537615</td>\n",
       "      <td>181.462385</td>\n",
       "    </tr>\n",
       "    <tr>\n",
       "      <th>std</th>\n",
       "      <td>12558.667296</td>\n",
       "      <td>2.627305e+05</td>\n",
       "      <td>2043.851287</td>\n",
       "      <td>1002.965710</td>\n",
       "    </tr>\n",
       "    <tr>\n",
       "      <th>min</th>\n",
       "      <td>0.000000</td>\n",
       "      <td>0.000000e+00</td>\n",
       "      <td>485.000000</td>\n",
       "      <td>0.000000</td>\n",
       "    </tr>\n",
       "    <tr>\n",
       "      <th>25%</th>\n",
       "      <td>410.000000</td>\n",
       "      <td>1.120000e+03</td>\n",
       "      <td>615.000000</td>\n",
       "      <td>6.000000</td>\n",
       "    </tr>\n",
       "    <tr>\n",
       "      <th>50%</th>\n",
       "      <td>2662.000000</td>\n",
       "      <td>9.378000e+03</td>\n",
       "      <td>854.000000</td>\n",
       "      <td>26.000000</td>\n",
       "    </tr>\n",
       "    <tr>\n",
       "      <th>75%</th>\n",
       "      <td>6330.000000</td>\n",
       "      <td>3.996800e+04</td>\n",
       "      <td>1396.000000</td>\n",
       "      <td>103.000000</td>\n",
       "    </tr>\n",
       "    <tr>\n",
       "      <th>max</th>\n",
       "      <td>257508.000000</td>\n",
       "      <td>3.979547e+06</td>\n",
       "      <td>21342.000000</td>\n",
       "      <td>16812.000000</td>\n",
       "    </tr>\n",
       "  </tbody>\n",
       "</table>\n",
       "</div>"
      ],
      "text/plain": [
       "       watchers_count          size   forks_count   open_issues\n",
       "count      545.000000  5.450000e+02    545.000000    545.000000\n",
       "mean      5197.201835  7.076932e+04   1433.537615    181.462385\n",
       "std      12558.667296  2.627305e+05   2043.851287   1002.965710\n",
       "min          0.000000  0.000000e+00    485.000000      0.000000\n",
       "25%        410.000000  1.120000e+03    615.000000      6.000000\n",
       "50%       2662.000000  9.378000e+03    854.000000     26.000000\n",
       "75%       6330.000000  3.996800e+04   1396.000000    103.000000\n",
       "max     257508.000000  3.979547e+06  21342.000000  16812.000000"
      ]
     },
     "execution_count": 4,
     "metadata": {},
     "output_type": "execute_result"
    }
   ],
   "source": [
    "df[['watchers_count', 'size', 'forks_count', 'open_issues']].describe()"
   ]
  },
  {
   "cell_type": "markdown",
   "metadata": {},
   "source": [
    "# Top technologies"
   ]
  },
  {
   "cell_type": "code",
   "execution_count": 5,
   "metadata": {},
   "outputs": [],
   "source": [
    "# Identifying the most popular phrases related to technologies by \n",
    "# focusing on most frequent bigrams\n",
    "\n",
    "import nltk         \n",
    "from nltk.collocations import *      #implements n-gram search tools"
   ]
  },
  {
   "cell_type": "code",
   "execution_count": 6,
   "metadata": {},
   "outputs": [],
   "source": [
    "list_documents = df['clean'].apply(lambda x : x.split()).tolist()\n",
    "# here list_documents is a list of lists containing words in the column 'clean'"
   ]
  },
  {
   "cell_type": "code",
   "execution_count": 7,
   "metadata": {},
   "outputs": [],
   "source": [
    "# finding bigrams document-wise and avoiding corpus wise by using from_documents\n",
    "\n",
    "bigram_measures = nltk.collocations.BigramAssocMeasures()\n",
    "bigram_finder = BigramCollocationFinder.from_documents(list_documents)"
   ]
  },
  {
   "cell_type": "code",
   "execution_count": 8,
   "metadata": {},
   "outputs": [],
   "source": [
    "bigram_finder.apply_freq_filter(3)  #considering bigrams with at least three occurences"
   ]
  },
  {
   "cell_type": "code",
   "execution_count": 9,
   "metadata": {},
   "outputs": [],
   "source": [
    "bigrams = bigram_finder.nbest(bigram_measures.raw_freq, 20)\n",
    "# we get top 20 bigrams according to raw_freq measure"
   ]
  },
  {
   "cell_type": "code",
   "execution_count": 10,
   "metadata": {},
   "outputs": [],
   "source": [
    "# now we find scores of these bigrams i.e. (here) the frequency corresponding to each\n",
    "\n",
    "scores = bigram_finder.score_ngrams(bigram_measures.raw_freq)"
   ]
  },
  {
   "cell_type": "code",
   "execution_count": 11,
   "metadata": {},
   "outputs": [],
   "source": [
    "ngram = list(bigram_finder.ngram_fd.items())   # bigram_finder.ngram_fd is a dictionary"
   ]
  },
  {
   "cell_type": "code",
   "execution_count": 12,
   "metadata": {},
   "outputs": [],
   "source": [
    "ngram.sort(key = lambda item: item[-1], reverse = True)"
   ]
  },
  {
   "cell_type": "code",
   "execution_count": 13,
   "metadata": {},
   "outputs": [
    {
     "data": {
      "text/plain": [
       "[(('deep', 'learning'), 24),\n",
       " (('open', 'source'), 20),\n",
       " (('machine', 'learning'), 14),\n",
       " (('starter', 'code'), 14),\n",
       " (('guided', 'project'), 14),\n",
       " (('data', 'science'), 10),\n",
       " (('github', 'actions'), 8),\n",
       " (('complete', 'flutter'), 8),\n",
       " (('best', 'practices'), 7),\n",
       " (('azure', 'devops'), 6)]"
      ]
     },
     "execution_count": 13,
     "metadata": {},
     "output_type": "execute_result"
    }
   ],
   "source": [
    "ngram[:10]"
   ]
  },
  {
   "cell_type": "code",
   "execution_count": 14,
   "metadata": {},
   "outputs": [],
   "source": [
    "frequency = [(' '.join(k), v) for k, v in ngram]\n",
    "\n",
    "# this just joins the tuple containing bigrams"
   ]
  },
  {
   "cell_type": "code",
   "execution_count": 15,
   "metadata": {},
   "outputs": [],
   "source": [
    "df = pd.DataFrame(frequency)"
   ]
  },
  {
   "cell_type": "code",
   "execution_count": 16,
   "metadata": {},
   "outputs": [
    {
     "data": {
      "text/html": [
       "<div>\n",
       "<style scoped>\n",
       "    .dataframe tbody tr th:only-of-type {\n",
       "        vertical-align: middle;\n",
       "    }\n",
       "\n",
       "    .dataframe tbody tr th {\n",
       "        vertical-align: top;\n",
       "    }\n",
       "\n",
       "    .dataframe thead th {\n",
       "        text-align: right;\n",
       "    }\n",
       "</style>\n",
       "<table border=\"1\" class=\"dataframe\">\n",
       "  <thead>\n",
       "    <tr style=\"text-align: right;\">\n",
       "      <th></th>\n",
       "      <th>0</th>\n",
       "      <th>1</th>\n",
       "    </tr>\n",
       "  </thead>\n",
       "  <tbody>\n",
       "    <tr>\n",
       "      <th>0</th>\n",
       "      <td>deep learning</td>\n",
       "      <td>24</td>\n",
       "    </tr>\n",
       "    <tr>\n",
       "      <th>1</th>\n",
       "      <td>open source</td>\n",
       "      <td>20</td>\n",
       "    </tr>\n",
       "    <tr>\n",
       "      <th>2</th>\n",
       "      <td>machine learning</td>\n",
       "      <td>14</td>\n",
       "    </tr>\n",
       "    <tr>\n",
       "      <th>3</th>\n",
       "      <td>starter code</td>\n",
       "      <td>14</td>\n",
       "    </tr>\n",
       "    <tr>\n",
       "      <th>4</th>\n",
       "      <td>guided project</td>\n",
       "      <td>14</td>\n",
       "    </tr>\n",
       "  </tbody>\n",
       "</table>\n",
       "</div>"
      ],
      "text/plain": [
       "                  0   1\n",
       "0     deep learning  24\n",
       "1       open source  20\n",
       "2  machine learning  14\n",
       "3      starter code  14\n",
       "4    guided project  14"
      ]
     },
     "execution_count": 16,
     "metadata": {},
     "output_type": "execute_result"
    }
   ],
   "source": [
    "df.head()"
   ]
  },
  {
   "cell_type": "code",
   "execution_count": 17,
   "metadata": {},
   "outputs": [],
   "source": [
    "import matplotlib.pyplot as plt"
   ]
  },
  {
   "cell_type": "code",
   "execution_count": 18,
   "metadata": {},
   "outputs": [],
   "source": [
    "plt.style.use('ggplot')"
   ]
  },
  {
   "cell_type": "code",
   "execution_count": 19,
   "metadata": {},
   "outputs": [
    {
     "data": {
      "text/html": [
       "<div>\n",
       "<style scoped>\n",
       "    .dataframe tbody tr th:only-of-type {\n",
       "        vertical-align: middle;\n",
       "    }\n",
       "\n",
       "    .dataframe tbody tr th {\n",
       "        vertical-align: top;\n",
       "    }\n",
       "\n",
       "    .dataframe thead th {\n",
       "        text-align: right;\n",
       "    }\n",
       "</style>\n",
       "<table border=\"1\" class=\"dataframe\">\n",
       "  <thead>\n",
       "    <tr style=\"text-align: right;\">\n",
       "      <th></th>\n",
       "      <th>1</th>\n",
       "    </tr>\n",
       "    <tr>\n",
       "      <th>0</th>\n",
       "      <th></th>\n",
       "    </tr>\n",
       "  </thead>\n",
       "  <tbody>\n",
       "    <tr>\n",
       "      <th>deep learning</th>\n",
       "      <td>24</td>\n",
       "    </tr>\n",
       "    <tr>\n",
       "      <th>open source</th>\n",
       "      <td>20</td>\n",
       "    </tr>\n",
       "    <tr>\n",
       "      <th>machine learning</th>\n",
       "      <td>14</td>\n",
       "    </tr>\n",
       "    <tr>\n",
       "      <th>starter code</th>\n",
       "      <td>14</td>\n",
       "    </tr>\n",
       "    <tr>\n",
       "      <th>guided project</th>\n",
       "      <td>14</td>\n",
       "    </tr>\n",
       "  </tbody>\n",
       "</table>\n",
       "</div>"
      ],
      "text/plain": [
       "                   1\n",
       "0                   \n",
       "deep learning     24\n",
       "open source       20\n",
       "machine learning  14\n",
       "starter code      14\n",
       "guided project    14"
      ]
     },
     "execution_count": 19,
     "metadata": {},
     "output_type": "execute_result"
    }
   ],
   "source": [
    "df.set_index([0], inplace = True)\n",
    "df.head()"
   ]
  },
  {
   "cell_type": "code",
   "execution_count": 20,
   "metadata": {},
   "outputs": [
    {
     "data": {
      "image/png": "[encoded data removed]",
      "text/plain": [
       "<Figure size 432x288 with 1 Axes>"
      ]
     },
     "metadata": {},
     "output_type": "display_data"
    }
   ],
   "source": [
    "df.sort_values(by = [1], ascending = False).head(25).plot(kind = 'barh')\n",
    "plt.title('Trending Technologies')\n",
    "plt.ylabel('Technology')\n",
    "plt.xlabel('Popularity')\n",
    "plt.legend().set_visible(False)\n",
    "plt.show()"
   ]
  },
  {
   "cell_type": "code",
   "execution_count": null,
   "metadata": {},
   "outputs": [],
   "source": []
  }
 ],
 "metadata": {
  "kernelspec": {
   "display_name": "Python 3",
   "language": "python",
   "name": "python3"
  },
  "language_info": {
   "codemirror_mode": {
    "name": "ipython",
    "version": 3
   },
   "file_extension": ".py",
   "mimetype": "text/x-python",
   "name": "python",
   "nbconvert_exporter": "python",
   "pygments_lexer": "ipython3",
   "version": "3.7.7"
  }
 },
 "nbformat": 4,
 "nbformat_minor": 4
}
