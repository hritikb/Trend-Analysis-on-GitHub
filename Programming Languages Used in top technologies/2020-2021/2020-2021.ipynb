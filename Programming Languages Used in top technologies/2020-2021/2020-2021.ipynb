{
 "cells": [
  {
   "cell_type": "markdown",
   "metadata": {},
   "source": [
    "### Considering the Trending Technologies we will choose some of them to see which programming languages are mostly used for them."
   ]
  },
  {
   "cell_type": "code",
   "execution_count": 1,
   "metadata": {},
   "outputs": [],
   "source": [
    "import pandas as pd"
   ]
  },
  {
   "cell_type": "code",
   "execution_count": 2,
   "metadata": {},
   "outputs": [],
   "source": [
    "df = pd.read_csv('Github_Data_2020_ready_for_text_analysis.csv')"
   ]
  },
  {
   "cell_type": "code",
   "execution_count": 11,
   "metadata": {},
   "outputs": [],
   "source": [
    "focus = ['open source', 'deep learning', 'data science', 'machine learning', 'guided project', 'web development',\n",
    "         'starter project', 'software development']"
   ]
  },
  {
   "cell_type": "code",
   "execution_count": 12,
   "metadata": {},
   "outputs": [
    {
     "name": "stdout",
     "output_type": "stream",
     "text": [
      "\n",
      "For open source :  ['Python', nan, 'C++', 'HTML', 'Jupyter Notebook', 'JavaScript', 'C']\n",
      "\n",
      "For deep learning :  ['Python', 'Jupyter Notebook']\n",
      "\n",
      "For data science :  [nan, 'Python', 'Jupyter Notebook']\n",
      "\n",
      "For machine learning :  ['Python', 'Jupyter Notebook']\n",
      "\n",
      "For guided project :  ['JavaScript']\n",
      "\n",
      "For web development :  [nan, 'JavaScript']\n",
      "\n",
      "For starter project :  ['Python', 'HTML', 'Java']\n",
      "\n",
      "For software development :  ['JavaScript']\n"
     ]
    }
   ],
   "source": [
    "for tech in focus:\n",
    "    print('\\nFor ' +tech + ' : ', list(set(df[df['clean'].str.contains(tech)]['language'])))"
   ]
  },
  {
   "cell_type": "markdown",
   "metadata": {},
   "source": [
    "### Open Source is associated with many programming languages and thus justifies its popularity.\n",
    "\n",
    "### Some lists have nan because many repos are developed with several programming languages.\n",
    "\n",
    "### Tech related to Data Science is dominated by Python and Jupyter Notebook (representing Julia, Python and R).\n",
    "### For web and software development Javascript is most popular."
   ]
  }
 ],
 "metadata": {
  "kernelspec": {
   "display_name": "Python 3",
   "language": "python",
   "name": "python3"
  },
  "language_info": {
   "codemirror_mode": {
    "name": "ipython",
    "version": 3
   },
   "file_extension": ".py",
   "mimetype": "text/x-python",
   "name": "python",
   "nbconvert_exporter": "python",
   "pygments_lexer": "ipython3",
   "version": "3.7.7"
  }
 },
 "nbformat": 4,
 "nbformat_minor": 4
}
