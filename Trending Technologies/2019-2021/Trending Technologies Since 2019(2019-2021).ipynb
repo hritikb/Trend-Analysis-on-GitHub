{
 "cells": [
  {
   "cell_type": "code",
   "execution_count": 1,
   "metadata": {},
   "outputs": [],
   "source": [
    "import pandas as pd"
   ]
  },
  {
   "cell_type": "code",
   "execution_count": 2,
   "metadata": {},
   "outputs": [],
   "source": [
    "df = pd.read_csv('Github_Data_2019_ready_for_text_analysis.csv')"
   ]
  },
  {
   "cell_type": "code",
   "execution_count": 3,
   "metadata": {},
   "outputs": [
    {
     "data": {
      "text/html": [
       "<div>\n",
       "<style scoped>\n",
       "    .dataframe tbody tr th:only-of-type {\n",
       "        vertical-align: middle;\n",
       "    }\n",
       "\n",
       "    .dataframe tbody tr th {\n",
       "        vertical-align: top;\n",
       "    }\n",
       "\n",
       "    .dataframe thead th {\n",
       "        text-align: right;\n",
       "    }\n",
       "</style>\n",
       "<table border=\"1\" class=\"dataframe\">\n",
       "  <thead>\n",
       "    <tr style=\"text-align: right;\">\n",
       "      <th></th>\n",
       "      <th>Unnamed: 0</th>\n",
       "      <th>id</th>\n",
       "      <th>node_id</th>\n",
       "      <th>name</th>\n",
       "      <th>full_name</th>\n",
       "      <th>private</th>\n",
       "      <th>html_url</th>\n",
       "      <th>description</th>\n",
       "      <th>fork</th>\n",
       "      <th>url</th>\n",
       "      <th>...</th>\n",
       "      <th>owner.received_events_url</th>\n",
       "      <th>owner.type</th>\n",
       "      <th>owner.site_admin</th>\n",
       "      <th>license.key</th>\n",
       "      <th>license.name</th>\n",
       "      <th>license.spdx_id</th>\n",
       "      <th>license.url</th>\n",
       "      <th>license.node_id</th>\n",
       "      <th>lang</th>\n",
       "      <th>clean</th>\n",
       "    </tr>\n",
       "  </thead>\n",
       "  <tbody>\n",
       "    <tr>\n",
       "      <th>0</th>\n",
       "      <td>0</td>\n",
       "      <td>167620884</td>\n",
       "      <td>MDEwOlJlcG9zaXRvcnkxNjc2MjA4ODQ=</td>\n",
       "      <td>devtraining-needit-madrid</td>\n",
       "      <td>SmashDummies/devtraining-needit-madrid</td>\n",
       "      <td>False</td>\n",
       "      <td>https://github.com/SmashDummies/devtraining-ne...</td>\n",
       "      <td>This repository is used by the developer site ...</td>\n",
       "      <td>False</td>\n",
       "      <td>https://api.github.com/repos/SmashDummies/devt...</td>\n",
       "      <td>...</td>\n",
       "      <td>https://api.github.com/users/SmashDummies/rece...</td>\n",
       "      <td>User</td>\n",
       "      <td>False</td>\n",
       "      <td>NaN</td>\n",
       "      <td>NaN</td>\n",
       "      <td>NaN</td>\n",
       "      <td>NaN</td>\n",
       "      <td>NaN</td>\n",
       "      <td>en</td>\n",
       "      <td>repository used developer site training conten...</td>\n",
       "    </tr>\n",
       "    <tr>\n",
       "      <th>1</th>\n",
       "      <td>4</td>\n",
       "      <td>165085610</td>\n",
       "      <td>MDEwOlJlcG9zaXRvcnkxNjUwODU2MTA=</td>\n",
       "      <td>MyFirstPullRequest</td>\n",
       "      <td>COGS108/MyFirstPullRequest</td>\n",
       "      <td>False</td>\n",
       "      <td>https://github.com/COGS108/MyFirstPullRequest</td>\n",
       "      <td>To be used for the assignments in Cogs 108</td>\n",
       "      <td>False</td>\n",
       "      <td>https://api.github.com/repos/COGS108/MyFirstPu...</td>\n",
       "      <td>...</td>\n",
       "      <td>https://api.github.com/users/COGS108/received_...</td>\n",
       "      <td>Organization</td>\n",
       "      <td>False</td>\n",
       "      <td>NaN</td>\n",
       "      <td>NaN</td>\n",
       "      <td>NaN</td>\n",
       "      <td>NaN</td>\n",
       "      <td>NaN</td>\n",
       "      <td>en</td>\n",
       "      <td>used assignments cogs 108</td>\n",
       "    </tr>\n",
       "    <tr>\n",
       "      <th>2</th>\n",
       "      <td>5</td>\n",
       "      <td>186485725</td>\n",
       "      <td>MDEwOlJlcG9zaXRvcnkxODY0ODU3MjU=</td>\n",
       "      <td>mslearn-tailspin-spacegame-web-models</td>\n",
       "      <td>MicrosoftDocs/mslearn-tailspin-spacegame-web-m...</td>\n",
       "      <td>False</td>\n",
       "      <td>https://github.com/MicrosoftDocs/mslearn-tails...</td>\n",
       "      <td>Code used in Microsoft Learn modules to suppor...</td>\n",
       "      <td>False</td>\n",
       "      <td>https://api.github.com/repos/MicrosoftDocs/msl...</td>\n",
       "      <td>...</td>\n",
       "      <td>https://api.github.com/users/MicrosoftDocs/rec...</td>\n",
       "      <td>Organization</td>\n",
       "      <td>False</td>\n",
       "      <td>other</td>\n",
       "      <td>Other</td>\n",
       "      <td>NOASSERTION</td>\n",
       "      <td>NaN</td>\n",
       "      <td>MDc6TGljZW5zZTA=</td>\n",
       "      <td>en</td>\n",
       "      <td>code used microsoft learn modules support azur...</td>\n",
       "    </tr>\n",
       "    <tr>\n",
       "      <th>3</th>\n",
       "      <td>6</td>\n",
       "      <td>196292268</td>\n",
       "      <td>MDEwOlJlcG9zaXRvcnkxOTYyOTIyNjg=</td>\n",
       "      <td>github-usercard</td>\n",
       "      <td>LambdaSchool/github-usercard</td>\n",
       "      <td>False</td>\n",
       "      <td>https://github.com/LambdaSchool/github-usercard</td>\n",
       "      <td>Create a card based on the data coming back fr...</td>\n",
       "      <td>False</td>\n",
       "      <td>https://api.github.com/repos/LambdaSchool/gith...</td>\n",
       "      <td>...</td>\n",
       "      <td>https://api.github.com/users/LambdaSchool/rece...</td>\n",
       "      <td>Organization</td>\n",
       "      <td>False</td>\n",
       "      <td>NaN</td>\n",
       "      <td>NaN</td>\n",
       "      <td>NaN</td>\n",
       "      <td>NaN</td>\n",
       "      <td>NaN</td>\n",
       "      <td>en</td>\n",
       "      <td>create card based data coming back github api</td>\n",
       "    </tr>\n",
       "    <tr>\n",
       "      <th>4</th>\n",
       "      <td>18</td>\n",
       "      <td>203418584</td>\n",
       "      <td>MDEwOlJlcG9zaXRvcnkyMDM0MTg1ODQ=</td>\n",
       "      <td>JS-Exercise-Prototype</td>\n",
       "      <td>LambdaSchool/JS-Exercise-Prototype</td>\n",
       "      <td>False</td>\n",
       "      <td>https://github.com/LambdaSchool/JS-Exercise-Pr...</td>\n",
       "      <td>An exercise for JS constructor functions.</td>\n",
       "      <td>False</td>\n",
       "      <td>https://api.github.com/repos/LambdaSchool/JS-E...</td>\n",
       "      <td>...</td>\n",
       "      <td>https://api.github.com/users/LambdaSchool/rece...</td>\n",
       "      <td>Organization</td>\n",
       "      <td>False</td>\n",
       "      <td>NaN</td>\n",
       "      <td>NaN</td>\n",
       "      <td>NaN</td>\n",
       "      <td>NaN</td>\n",
       "      <td>NaN</td>\n",
       "      <td>en</td>\n",
       "      <td>exercise js constructor functions</td>\n",
       "    </tr>\n",
       "  </tbody>\n",
       "</table>\n",
       "<p>5 rows × 99 columns</p>\n",
       "</div>"
      ],
      "text/plain": [
       "   Unnamed: 0         id                           node_id  \\\n",
       "0           0  167620884  MDEwOlJlcG9zaXRvcnkxNjc2MjA4ODQ=   \n",
       "1           4  165085610  MDEwOlJlcG9zaXRvcnkxNjUwODU2MTA=   \n",
       "2           5  186485725  MDEwOlJlcG9zaXRvcnkxODY0ODU3MjU=   \n",
       "3           6  196292268  MDEwOlJlcG9zaXRvcnkxOTYyOTIyNjg=   \n",
       "4          18  203418584  MDEwOlJlcG9zaXRvcnkyMDM0MTg1ODQ=   \n",
       "\n",
       "                                    name  \\\n",
       "0              devtraining-needit-madrid   \n",
       "1                     MyFirstPullRequest   \n",
       "2  mslearn-tailspin-spacegame-web-models   \n",
       "3                        github-usercard   \n",
       "4                  JS-Exercise-Prototype   \n",
       "\n",
       "                                           full_name  private  \\\n",
       "0             SmashDummies/devtraining-needit-madrid    False   \n",
       "1                         COGS108/MyFirstPullRequest    False   \n",
       "2  MicrosoftDocs/mslearn-tailspin-spacegame-web-m...    False   \n",
       "3                       LambdaSchool/github-usercard    False   \n",
       "4                 LambdaSchool/JS-Exercise-Prototype    False   \n",
       "\n",
       "                                            html_url  \\\n",
       "0  https://github.com/SmashDummies/devtraining-ne...   \n",
       "1      https://github.com/COGS108/MyFirstPullRequest   \n",
       "2  https://github.com/MicrosoftDocs/mslearn-tails...   \n",
       "3    https://github.com/LambdaSchool/github-usercard   \n",
       "4  https://github.com/LambdaSchool/JS-Exercise-Pr...   \n",
       "\n",
       "                                         description   fork  \\\n",
       "0  This repository is used by the developer site ...  False   \n",
       "1         To be used for the assignments in Cogs 108  False   \n",
       "2  Code used in Microsoft Learn modules to suppor...  False   \n",
       "3  Create a card based on the data coming back fr...  False   \n",
       "4          An exercise for JS constructor functions.  False   \n",
       "\n",
       "                                                 url  ...  \\\n",
       "0  https://api.github.com/repos/SmashDummies/devt...  ...   \n",
       "1  https://api.github.com/repos/COGS108/MyFirstPu...  ...   \n",
       "2  https://api.github.com/repos/MicrosoftDocs/msl...  ...   \n",
       "3  https://api.github.com/repos/LambdaSchool/gith...  ...   \n",
       "4  https://api.github.com/repos/LambdaSchool/JS-E...  ...   \n",
       "\n",
       "                           owner.received_events_url    owner.type  \\\n",
       "0  https://api.github.com/users/SmashDummies/rece...          User   \n",
       "1  https://api.github.com/users/COGS108/received_...  Organization   \n",
       "2  https://api.github.com/users/MicrosoftDocs/rec...  Organization   \n",
       "3  https://api.github.com/users/LambdaSchool/rece...  Organization   \n",
       "4  https://api.github.com/users/LambdaSchool/rece...  Organization   \n",
       "\n",
       "  owner.site_admin license.key license.name license.spdx_id license.url  \\\n",
       "0            False         NaN          NaN             NaN         NaN   \n",
       "1            False         NaN          NaN             NaN         NaN   \n",
       "2            False       other        Other     NOASSERTION         NaN   \n",
       "3            False         NaN          NaN             NaN         NaN   \n",
       "4            False         NaN          NaN             NaN         NaN   \n",
       "\n",
       "    license.node_id lang                                              clean  \n",
       "0               NaN   en  repository used developer site training conten...  \n",
       "1               NaN   en                          used assignments cogs 108  \n",
       "2  MDc6TGljZW5zZTA=   en  code used microsoft learn modules support azur...  \n",
       "3               NaN   en      create card based data coming back github api  \n",
       "4               NaN   en                  exercise js constructor functions  \n",
       "\n",
       "[5 rows x 99 columns]"
      ]
     },
     "execution_count": 3,
     "metadata": {},
     "output_type": "execute_result"
    }
   ],
   "source": [
    "df.head()"
   ]
  },
  {
   "cell_type": "markdown",
   "metadata": {},
   "source": [
    "# Numerical Data"
   ]
  },
  {
   "cell_type": "code",
   "execution_count": 5,
   "metadata": {},
   "outputs": [
    {
     "data": {
      "text/html": [
       "<div>\n",
       "<style scoped>\n",
       "    .dataframe tbody tr th:only-of-type {\n",
       "        vertical-align: middle;\n",
       "    }\n",
       "\n",
       "    .dataframe tbody tr th {\n",
       "        vertical-align: top;\n",
       "    }\n",
       "\n",
       "    .dataframe thead th {\n",
       "        text-align: right;\n",
       "    }\n",
       "</style>\n",
       "<table border=\"1\" class=\"dataframe\">\n",
       "  <thead>\n",
       "    <tr style=\"text-align: right;\">\n",
       "      <th></th>\n",
       "      <th>watchers_count</th>\n",
       "      <th>size</th>\n",
       "      <th>forks_count</th>\n",
       "      <th>open_issues</th>\n",
       "    </tr>\n",
       "  </thead>\n",
       "  <tbody>\n",
       "    <tr>\n",
       "      <th>count</th>\n",
       "      <td>209.000000</td>\n",
       "      <td>209.000000</td>\n",
       "      <td>209.000000</td>\n",
       "      <td>209.000000</td>\n",
       "    </tr>\n",
       "    <tr>\n",
       "      <th>mean</th>\n",
       "      <td>18.909091</td>\n",
       "      <td>8615.023923</td>\n",
       "      <td>489.822967</td>\n",
       "      <td>67.645933</td>\n",
       "    </tr>\n",
       "    <tr>\n",
       "      <th>std</th>\n",
       "      <td>51.994789</td>\n",
       "      <td>33754.808007</td>\n",
       "      <td>720.045119</td>\n",
       "      <td>281.806209</td>\n",
       "    </tr>\n",
       "    <tr>\n",
       "      <th>min</th>\n",
       "      <td>0.000000</td>\n",
       "      <td>0.000000</td>\n",
       "      <td>152.000000</td>\n",
       "      <td>0.000000</td>\n",
       "    </tr>\n",
       "    <tr>\n",
       "      <th>25%</th>\n",
       "      <td>1.000000</td>\n",
       "      <td>40.000000</td>\n",
       "      <td>200.000000</td>\n",
       "      <td>0.000000</td>\n",
       "    </tr>\n",
       "    <tr>\n",
       "      <th>50%</th>\n",
       "      <td>4.000000</td>\n",
       "      <td>238.000000</td>\n",
       "      <td>289.000000</td>\n",
       "      <td>4.000000</td>\n",
       "    </tr>\n",
       "    <tr>\n",
       "      <th>75%</th>\n",
       "      <td>13.000000</td>\n",
       "      <td>1526.000000</td>\n",
       "      <td>516.000000</td>\n",
       "      <td>39.000000</td>\n",
       "    </tr>\n",
       "    <tr>\n",
       "      <th>max</th>\n",
       "      <td>470.000000</td>\n",
       "      <td>267242.000000</td>\n",
       "      <td>8200.000000</td>\n",
       "      <td>3715.000000</td>\n",
       "    </tr>\n",
       "  </tbody>\n",
       "</table>\n",
       "</div>"
      ],
      "text/plain": [
       "       watchers_count           size  forks_count  open_issues\n",
       "count      209.000000     209.000000   209.000000   209.000000\n",
       "mean        18.909091    8615.023923   489.822967    67.645933\n",
       "std         51.994789   33754.808007   720.045119   281.806209\n",
       "min          0.000000       0.000000   152.000000     0.000000\n",
       "25%          1.000000      40.000000   200.000000     0.000000\n",
       "50%          4.000000     238.000000   289.000000     4.000000\n",
       "75%         13.000000    1526.000000   516.000000    39.000000\n",
       "max        470.000000  267242.000000  8200.000000  3715.000000"
      ]
     },
     "execution_count": 5,
     "metadata": {},
     "output_type": "execute_result"
    }
   ],
   "source": [
    "df[['watchers_count', 'size', 'forks_count', 'open_issues']].describe()"
   ]
  },
  {
   "cell_type": "markdown",
   "metadata": {},
   "source": [
    "# Top technologies"
   ]
  },
  {
   "cell_type": "code",
   "execution_count": 6,
   "metadata": {},
   "outputs": [],
   "source": [
    "# Identifying the most popular phrases related to technologies by \n",
    "# focusing on most frequent bigrams\n",
    "\n",
    "import nltk         \n",
    "from nltk.collocations import *      #implements n-gram search tools"
   ]
  },
  {
   "cell_type": "code",
   "execution_count": 7,
   "metadata": {},
   "outputs": [],
   "source": [
    "list_documents = df['clean'].apply(lambda x : x.split()).tolist()\n",
    "# here list_documents is a list of lists containing words in the column 'clean'"
   ]
  },
  {
   "cell_type": "code",
   "execution_count": 8,
   "metadata": {},
   "outputs": [],
   "source": [
    "# finding bigrams document-wise and avoiding corpus wise by using from_documents\n",
    "\n",
    "bigram_measures = nltk.collocations.BigramAssocMeasures()\n",
    "bigram_finder = BigramCollocationFinder.from_documents(list_documents)"
   ]
  },
  {
   "cell_type": "code",
   "execution_count": 9,
   "metadata": {},
   "outputs": [],
   "source": [
    "bigram_finder.apply_freq_filter(3)  #considering bigrams with at least three occurences"
   ]
  },
  {
   "cell_type": "code",
   "execution_count": 10,
   "metadata": {},
   "outputs": [],
   "source": [
    "bigrams = bigram_finder.nbest(bigram_measures.raw_freq, 20)\n",
    "# we get top 20 bigrams according to raw_freq measure"
   ]
  },
  {
   "cell_type": "code",
   "execution_count": 11,
   "metadata": {},
   "outputs": [],
   "source": [
    "# now we find scores of these bigrams i.e. (here) the frequency corresponding to each\n",
    "\n",
    "scores = bigram_finder.score_ngrams(bigram_measures.raw_freq)"
   ]
  },
  {
   "cell_type": "code",
   "execution_count": 12,
   "metadata": {},
   "outputs": [],
   "source": [
    "ngram = list(bigram_finder.ngram_fd.items())   # bigram_finder.ngram_fd is a dictionary"
   ]
  },
  {
   "cell_type": "code",
   "execution_count": 13,
   "metadata": {},
   "outputs": [],
   "source": [
    "ngram.sort(key = lambda item: item[-1], reverse = True)"
   ]
  },
  {
   "cell_type": "code",
   "execution_count": 14,
   "metadata": {},
   "outputs": [
    {
     "data": {
      "text/plain": [
       "[(('guided', 'project'), 12),\n",
       " (('starter', 'code'), 7),\n",
       " (('azure', 'devops'), 6),\n",
       " (('project', 'web'), 6),\n",
       " (('open', 'source'), 6),\n",
       " (('code', 'used'), 5),\n",
       " (('used', 'microsoft'), 5),\n",
       " (('microsoft', 'learn'), 5),\n",
       " (('learn', 'modules'), 5),\n",
       " (('modules', 'support'), 5)]"
      ]
     },
     "execution_count": 14,
     "metadata": {},
     "output_type": "execute_result"
    }
   ],
   "source": [
    "ngram[:10]"
   ]
  },
  {
   "cell_type": "code",
   "execution_count": 15,
   "metadata": {},
   "outputs": [],
   "source": [
    "frequency = [(' '.join(k), v) for k, v in ngram]\n",
    "\n",
    "# this just joins the tuple containing bigrams"
   ]
  },
  {
   "cell_type": "code",
   "execution_count": 16,
   "metadata": {},
   "outputs": [],
   "source": [
    "df = pd.DataFrame(frequency)"
   ]
  },
  {
   "cell_type": "code",
   "execution_count": 17,
   "metadata": {},
   "outputs": [
    {
     "data": {
      "text/html": [
       "<div>\n",
       "<style scoped>\n",
       "    .dataframe tbody tr th:only-of-type {\n",
       "        vertical-align: middle;\n",
       "    }\n",
       "\n",
       "    .dataframe tbody tr th {\n",
       "        vertical-align: top;\n",
       "    }\n",
       "\n",
       "    .dataframe thead th {\n",
       "        text-align: right;\n",
       "    }\n",
       "</style>\n",
       "<table border=\"1\" class=\"dataframe\">\n",
       "  <thead>\n",
       "    <tr style=\"text-align: right;\">\n",
       "      <th></th>\n",
       "      <th>0</th>\n",
       "      <th>1</th>\n",
       "    </tr>\n",
       "  </thead>\n",
       "  <tbody>\n",
       "    <tr>\n",
       "      <th>0</th>\n",
       "      <td>guided project</td>\n",
       "      <td>12</td>\n",
       "    </tr>\n",
       "    <tr>\n",
       "      <th>1</th>\n",
       "      <td>starter code</td>\n",
       "      <td>7</td>\n",
       "    </tr>\n",
       "    <tr>\n",
       "      <th>2</th>\n",
       "      <td>azure devops</td>\n",
       "      <td>6</td>\n",
       "    </tr>\n",
       "    <tr>\n",
       "      <th>3</th>\n",
       "      <td>project web</td>\n",
       "      <td>6</td>\n",
       "    </tr>\n",
       "    <tr>\n",
       "      <th>4</th>\n",
       "      <td>open source</td>\n",
       "      <td>6</td>\n",
       "    </tr>\n",
       "  </tbody>\n",
       "</table>\n",
       "</div>"
      ],
      "text/plain": [
       "                0   1\n",
       "0  guided project  12\n",
       "1    starter code   7\n",
       "2    azure devops   6\n",
       "3     project web   6\n",
       "4     open source   6"
      ]
     },
     "execution_count": 17,
     "metadata": {},
     "output_type": "execute_result"
    }
   ],
   "source": [
    "df.head()"
   ]
  },
  {
   "cell_type": "code",
   "execution_count": 18,
   "metadata": {},
   "outputs": [],
   "source": [
    "import matplotlib.pyplot as plt"
   ]
  },
  {
   "cell_type": "code",
   "execution_count": 19,
   "metadata": {},
   "outputs": [],
   "source": [
    "plt.style.use('ggplot')"
   ]
  },
  {
   "cell_type": "code",
   "execution_count": 20,
   "metadata": {},
   "outputs": [
    {
     "data": {
      "text/html": [
       "<div>\n",
       "<style scoped>\n",
       "    .dataframe tbody tr th:only-of-type {\n",
       "        vertical-align: middle;\n",
       "    }\n",
       "\n",
       "    .dataframe tbody tr th {\n",
       "        vertical-align: top;\n",
       "    }\n",
       "\n",
       "    .dataframe thead th {\n",
       "        text-align: right;\n",
       "    }\n",
       "</style>\n",
       "<table border=\"1\" class=\"dataframe\">\n",
       "  <thead>\n",
       "    <tr style=\"text-align: right;\">\n",
       "      <th></th>\n",
       "      <th>1</th>\n",
       "    </tr>\n",
       "    <tr>\n",
       "      <th>0</th>\n",
       "      <th></th>\n",
       "    </tr>\n",
       "  </thead>\n",
       "  <tbody>\n",
       "    <tr>\n",
       "      <th>guided project</th>\n",
       "      <td>12</td>\n",
       "    </tr>\n",
       "    <tr>\n",
       "      <th>starter code</th>\n",
       "      <td>7</td>\n",
       "    </tr>\n",
       "    <tr>\n",
       "      <th>azure devops</th>\n",
       "      <td>6</td>\n",
       "    </tr>\n",
       "    <tr>\n",
       "      <th>project web</th>\n",
       "      <td>6</td>\n",
       "    </tr>\n",
       "    <tr>\n",
       "      <th>open source</th>\n",
       "      <td>6</td>\n",
       "    </tr>\n",
       "  </tbody>\n",
       "</table>\n",
       "</div>"
      ],
      "text/plain": [
       "                 1\n",
       "0                 \n",
       "guided project  12\n",
       "starter code     7\n",
       "azure devops     6\n",
       "project web      6\n",
       "open source      6"
      ]
     },
     "execution_count": 20,
     "metadata": {},
     "output_type": "execute_result"
    }
   ],
   "source": [
    "df.set_index([0], inplace = True)\n",
    "df.head()"
   ]
  },
  {
   "cell_type": "code",
   "execution_count": 21,
   "metadata": {},
   "outputs": [
    {
     "data": {
      "image/png": "[encoded data removed]",
      "text/plain": [
       "<Figure size 432x288 with 1 Axes>"
      ]
     },
     "metadata": {},
     "output_type": "display_data"
    }
   ],
   "source": [
    "df.sort_values(by = [1], ascending = False).head(25).plot(kind = 'barh')\n",
    "plt.title('Trending Technologies')\n",
    "plt.ylabel('Technology')\n",
    "plt.xlabel('Popularity')\n",
    "plt.legend().set_visible(False)\n",
    "plt.show()"
   ]
  },
  {
   "cell_type": "code",
   "execution_count": null,
   "metadata": {},
   "outputs": [],
   "source": []
  }
 ],
 "metadata": {
  "kernelspec": {
   "display_name": "Python 3",
   "language": "python",
   "name": "python3"
  },
  "language_info": {
   "codemirror_mode": {
    "name": "ipython",
    "version": 3
   },
   "file_extension": ".py",
   "mimetype": "text/x-python",
   "name": "python",
   "nbconvert_exporter": "python",
   "pygments_lexer": "ipython3",
   "version": "3.7.7"
  }
 },
 "nbformat": 4,
 "nbformat_minor": 4
}
