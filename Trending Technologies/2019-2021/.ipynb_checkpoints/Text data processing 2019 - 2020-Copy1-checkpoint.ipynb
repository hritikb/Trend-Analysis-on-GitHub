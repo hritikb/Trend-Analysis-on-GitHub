{
 "cells": [
  {
   "cell_type": "code",
   "execution_count": 1,
   "metadata": {},
   "outputs": [],
   "source": [
    "import pandas as pd\n",
    "import string"
   ]
  },
  {
   "cell_type": "code",
   "execution_count": 3,
   "metadata": {},
   "outputs": [],
   "source": [
    "df = pd.read_csv(\"Github_repo_data_2019_with_lang_column.csv\")"
   ]
  },
  {
   "cell_type": "code",
   "execution_count": 4,
   "metadata": {},
   "outputs": [
    {
     "data": {
      "text/html": [
       "<div>\n",
       "<style scoped>\n",
       "    .dataframe tbody tr th:only-of-type {\n",
       "        vertical-align: middle;\n",
       "    }\n",
       "\n",
       "    .dataframe tbody tr th {\n",
       "        vertical-align: top;\n",
       "    }\n",
       "\n",
       "    .dataframe thead th {\n",
       "        text-align: right;\n",
       "    }\n",
       "</style>\n",
       "<table border=\"1\" class=\"dataframe\">\n",
       "  <thead>\n",
       "    <tr style=\"text-align: right;\">\n",
       "      <th></th>\n",
       "      <th>Unnamed: 0</th>\n",
       "      <th>id</th>\n",
       "      <th>node_id</th>\n",
       "      <th>name</th>\n",
       "      <th>full_name</th>\n",
       "      <th>private</th>\n",
       "      <th>html_url</th>\n",
       "      <th>description</th>\n",
       "      <th>fork</th>\n",
       "      <th>url</th>\n",
       "      <th>...</th>\n",
       "      <th>owner.events_url</th>\n",
       "      <th>owner.received_events_url</th>\n",
       "      <th>owner.type</th>\n",
       "      <th>owner.site_admin</th>\n",
       "      <th>license.key</th>\n",
       "      <th>license.name</th>\n",
       "      <th>license.spdx_id</th>\n",
       "      <th>license.url</th>\n",
       "      <th>license.node_id</th>\n",
       "      <th>lang</th>\n",
       "    </tr>\n",
       "  </thead>\n",
       "  <tbody>\n",
       "    <tr>\n",
       "      <th>0</th>\n",
       "      <td>0</td>\n",
       "      <td>167620884</td>\n",
       "      <td>MDEwOlJlcG9zaXRvcnkxNjc2MjA4ODQ=</td>\n",
       "      <td>devtraining-needit-madrid</td>\n",
       "      <td>SmashDummies/devtraining-needit-madrid</td>\n",
       "      <td>False</td>\n",
       "      <td>https://github.com/SmashDummies/devtraining-ne...</td>\n",
       "      <td>This repository is used by the developer site ...</td>\n",
       "      <td>False</td>\n",
       "      <td>https://api.github.com/repos/SmashDummies/devt...</td>\n",
       "      <td>...</td>\n",
       "      <td>https://api.github.com/users/SmashDummies/even...</td>\n",
       "      <td>https://api.github.com/users/SmashDummies/rece...</td>\n",
       "      <td>User</td>\n",
       "      <td>False</td>\n",
       "      <td>NaN</td>\n",
       "      <td>NaN</td>\n",
       "      <td>NaN</td>\n",
       "      <td>NaN</td>\n",
       "      <td>NaN</td>\n",
       "      <td>en</td>\n",
       "    </tr>\n",
       "    <tr>\n",
       "      <th>1</th>\n",
       "      <td>4</td>\n",
       "      <td>165085610</td>\n",
       "      <td>MDEwOlJlcG9zaXRvcnkxNjUwODU2MTA=</td>\n",
       "      <td>MyFirstPullRequest</td>\n",
       "      <td>COGS108/MyFirstPullRequest</td>\n",
       "      <td>False</td>\n",
       "      <td>https://github.com/COGS108/MyFirstPullRequest</td>\n",
       "      <td>To be used for the assignments in Cogs 108</td>\n",
       "      <td>False</td>\n",
       "      <td>https://api.github.com/repos/COGS108/MyFirstPu...</td>\n",
       "      <td>...</td>\n",
       "      <td>https://api.github.com/users/COGS108/events{/p...</td>\n",
       "      <td>https://api.github.com/users/COGS108/received_...</td>\n",
       "      <td>Organization</td>\n",
       "      <td>False</td>\n",
       "      <td>NaN</td>\n",
       "      <td>NaN</td>\n",
       "      <td>NaN</td>\n",
       "      <td>NaN</td>\n",
       "      <td>NaN</td>\n",
       "      <td>en</td>\n",
       "    </tr>\n",
       "    <tr>\n",
       "      <th>2</th>\n",
       "      <td>5</td>\n",
       "      <td>186485725</td>\n",
       "      <td>MDEwOlJlcG9zaXRvcnkxODY0ODU3MjU=</td>\n",
       "      <td>mslearn-tailspin-spacegame-web-models</td>\n",
       "      <td>MicrosoftDocs/mslearn-tailspin-spacegame-web-m...</td>\n",
       "      <td>False</td>\n",
       "      <td>https://github.com/MicrosoftDocs/mslearn-tails...</td>\n",
       "      <td>Code used in Microsoft Learn modules to suppor...</td>\n",
       "      <td>False</td>\n",
       "      <td>https://api.github.com/repos/MicrosoftDocs/msl...</td>\n",
       "      <td>...</td>\n",
       "      <td>https://api.github.com/users/MicrosoftDocs/eve...</td>\n",
       "      <td>https://api.github.com/users/MicrosoftDocs/rec...</td>\n",
       "      <td>Organization</td>\n",
       "      <td>False</td>\n",
       "      <td>other</td>\n",
       "      <td>Other</td>\n",
       "      <td>NOASSERTION</td>\n",
       "      <td>NaN</td>\n",
       "      <td>MDc6TGljZW5zZTA=</td>\n",
       "      <td>en</td>\n",
       "    </tr>\n",
       "    <tr>\n",
       "      <th>3</th>\n",
       "      <td>6</td>\n",
       "      <td>196292268</td>\n",
       "      <td>MDEwOlJlcG9zaXRvcnkxOTYyOTIyNjg=</td>\n",
       "      <td>github-usercard</td>\n",
       "      <td>LambdaSchool/github-usercard</td>\n",
       "      <td>False</td>\n",
       "      <td>https://github.com/LambdaSchool/github-usercard</td>\n",
       "      <td>Create a card based on the data coming back fr...</td>\n",
       "      <td>False</td>\n",
       "      <td>https://api.github.com/repos/LambdaSchool/gith...</td>\n",
       "      <td>...</td>\n",
       "      <td>https://api.github.com/users/LambdaSchool/even...</td>\n",
       "      <td>https://api.github.com/users/LambdaSchool/rece...</td>\n",
       "      <td>Organization</td>\n",
       "      <td>False</td>\n",
       "      <td>NaN</td>\n",
       "      <td>NaN</td>\n",
       "      <td>NaN</td>\n",
       "      <td>NaN</td>\n",
       "      <td>NaN</td>\n",
       "      <td>en</td>\n",
       "    </tr>\n",
       "    <tr>\n",
       "      <th>4</th>\n",
       "      <td>16</td>\n",
       "      <td>168327240</td>\n",
       "      <td>MDEwOlJlcG9zaXRvcnkxNjgzMjcyNDA=</td>\n",
       "      <td>yarn-training</td>\n",
       "      <td>progedu/yarn-training</td>\n",
       "      <td>False</td>\n",
       "      <td>https://github.com/progedu/yarn-training</td>\n",
       "      <td>入門コースの3章4節 yarnの練習 (ISC License)</td>\n",
       "      <td>False</td>\n",
       "      <td>https://api.github.com/repos/progedu/yarn-trai...</td>\n",
       "      <td>...</td>\n",
       "      <td>https://api.github.com/users/progedu/events{/p...</td>\n",
       "      <td>https://api.github.com/users/progedu/received_...</td>\n",
       "      <td>Organization</td>\n",
       "      <td>False</td>\n",
       "      <td>NaN</td>\n",
       "      <td>NaN</td>\n",
       "      <td>NaN</td>\n",
       "      <td>NaN</td>\n",
       "      <td>NaN</td>\n",
       "      <td>ja</td>\n",
       "    </tr>\n",
       "  </tbody>\n",
       "</table>\n",
       "<p>5 rows × 98 columns</p>\n",
       "</div>"
      ],
      "text/plain": [
       "   Unnamed: 0         id                           node_id  \\\n",
       "0           0  167620884  MDEwOlJlcG9zaXRvcnkxNjc2MjA4ODQ=   \n",
       "1           4  165085610  MDEwOlJlcG9zaXRvcnkxNjUwODU2MTA=   \n",
       "2           5  186485725  MDEwOlJlcG9zaXRvcnkxODY0ODU3MjU=   \n",
       "3           6  196292268  MDEwOlJlcG9zaXRvcnkxOTYyOTIyNjg=   \n",
       "4          16  168327240  MDEwOlJlcG9zaXRvcnkxNjgzMjcyNDA=   \n",
       "\n",
       "                                    name  \\\n",
       "0              devtraining-needit-madrid   \n",
       "1                     MyFirstPullRequest   \n",
       "2  mslearn-tailspin-spacegame-web-models   \n",
       "3                        github-usercard   \n",
       "4                          yarn-training   \n",
       "\n",
       "                                           full_name  private  \\\n",
       "0             SmashDummies/devtraining-needit-madrid    False   \n",
       "1                         COGS108/MyFirstPullRequest    False   \n",
       "2  MicrosoftDocs/mslearn-tailspin-spacegame-web-m...    False   \n",
       "3                       LambdaSchool/github-usercard    False   \n",
       "4                              progedu/yarn-training    False   \n",
       "\n",
       "                                            html_url  \\\n",
       "0  https://github.com/SmashDummies/devtraining-ne...   \n",
       "1      https://github.com/COGS108/MyFirstPullRequest   \n",
       "2  https://github.com/MicrosoftDocs/mslearn-tails...   \n",
       "3    https://github.com/LambdaSchool/github-usercard   \n",
       "4           https://github.com/progedu/yarn-training   \n",
       "\n",
       "                                         description   fork  \\\n",
       "0  This repository is used by the developer site ...  False   \n",
       "1         To be used for the assignments in Cogs 108  False   \n",
       "2  Code used in Microsoft Learn modules to suppor...  False   \n",
       "3  Create a card based on the data coming back fr...  False   \n",
       "4                   入門コースの3章4節 yarnの練習 (ISC License)  False   \n",
       "\n",
       "                                                 url  ...  \\\n",
       "0  https://api.github.com/repos/SmashDummies/devt...  ...   \n",
       "1  https://api.github.com/repos/COGS108/MyFirstPu...  ...   \n",
       "2  https://api.github.com/repos/MicrosoftDocs/msl...  ...   \n",
       "3  https://api.github.com/repos/LambdaSchool/gith...  ...   \n",
       "4  https://api.github.com/repos/progedu/yarn-trai...  ...   \n",
       "\n",
       "                                    owner.events_url  \\\n",
       "0  https://api.github.com/users/SmashDummies/even...   \n",
       "1  https://api.github.com/users/COGS108/events{/p...   \n",
       "2  https://api.github.com/users/MicrosoftDocs/eve...   \n",
       "3  https://api.github.com/users/LambdaSchool/even...   \n",
       "4  https://api.github.com/users/progedu/events{/p...   \n",
       "\n",
       "                           owner.received_events_url    owner.type  \\\n",
       "0  https://api.github.com/users/SmashDummies/rece...          User   \n",
       "1  https://api.github.com/users/COGS108/received_...  Organization   \n",
       "2  https://api.github.com/users/MicrosoftDocs/rec...  Organization   \n",
       "3  https://api.github.com/users/LambdaSchool/rece...  Organization   \n",
       "4  https://api.github.com/users/progedu/received_...  Organization   \n",
       "\n",
       "  owner.site_admin license.key license.name license.spdx_id license.url  \\\n",
       "0            False         NaN          NaN             NaN         NaN   \n",
       "1            False         NaN          NaN             NaN         NaN   \n",
       "2            False       other        Other     NOASSERTION         NaN   \n",
       "3            False         NaN          NaN             NaN         NaN   \n",
       "4            False         NaN          NaN             NaN         NaN   \n",
       "\n",
       "    license.node_id lang  \n",
       "0               NaN   en  \n",
       "1               NaN   en  \n",
       "2  MDc6TGljZW5zZTA=   en  \n",
       "3               NaN   en  \n",
       "4               NaN   ja  \n",
       "\n",
       "[5 rows x 98 columns]"
      ]
     },
     "execution_count": 4,
     "metadata": {},
     "output_type": "execute_result"
    }
   ],
   "source": [
    "df.head()"
   ]
  },
  {
   "cell_type": "code",
   "execution_count": 5,
   "metadata": {},
   "outputs": [],
   "source": [
    "#Keeping only the repos with english descriptions \n",
    "\n",
    "df = df[df['lang'] == 'en']"
   ]
  },
  {
   "cell_type": "code",
   "execution_count": 6,
   "metadata": {},
   "outputs": [
    {
     "name": "stderr",
     "output_type": "stream",
     "text": [
      "[nltk_data] Downloading package stopwords to\n",
      "[nltk_data]     C:\\Users\\HP\\AppData\\Roaming\\nltk_data...\n",
      "[nltk_data]   Package stopwords is already up-to-date!\n",
      "[nltk_data] Downloading package punkt to\n",
      "[nltk_data]     C:\\Users\\HP\\AppData\\Roaming\\nltk_data...\n",
      "[nltk_data]   Package punkt is already up-to-date!\n"
     ]
    },
    {
     "data": {
      "text/plain": [
       "True"
      ]
     },
     "execution_count": 6,
     "metadata": {},
     "output_type": "execute_result"
    }
   ],
   "source": [
    "import nltk\n",
    "from nltk import word_tokenize\n",
    "from nltk.corpus import stopwords\n",
    "nltk.download('stopwords')\n",
    "nltk.download('punkt')\n",
    "\n",
    "#stopwords in a language are those words that do not add much meaning to a sentence and hence can be ignored."
   ]
  },
  {
   "cell_type": "code",
   "execution_count": 7,
   "metadata": {},
   "outputs": [],
   "source": [
    "#now we define a function for tokenization\n",
    "\n",
    "def clean(text = '', stopwords = []):\n",
    "    #tokenize\n",
    "    tokens = word_tokenize(text.strip())      #Returns syllables (or vaguely words, numbers and punctuation marks) as a list.\n",
    "    \n",
    "    #lowercase\n",
    "    clean = [i.lower() for i in tokens]\n",
    "    \n",
    "    #remove stopwords\n",
    "    clean = [i for i in clean if i not in stopwords]  #Makes the list free from stopwords like this, is etc.\n",
    "    \n",
    "    #remove punctuation\n",
    "    punctuations = list(string.punctuation)  #returns a list of punctuation\n",
    "    clean = [i.strip(''.join(punctuations)) for i in clean if i not in punctuations]   #Makes the list free from punctuations\n",
    "    \n",
    "    return ' '.join(clean)"
   ]
  },
  {
   "cell_type": "code",
   "execution_count": 8,
   "metadata": {},
   "outputs": [],
   "source": [
    "#Now we create a new column 'clean' containing cleaned English descriptions\n",
    "\n",
    "df['clean'] = df['description'].apply(str)  #make sure description is a string.\n",
    "df['clean'] = df['clean'].apply(lambda x: clean(text = x, stopwords = stopwords.words('english')))\n",
    "\n",
    "df.to_csv('Github_Data_2019_ready_for_text_analysis.csv', index = False)"
   ]
  },
  {
   "cell_type": "markdown",
   "metadata": {},
   "source": [
    "# We get column 'clean' which is ready for analysis #"
   ]
  },
  {
   "cell_type": "code",
   "execution_count": 10,
   "metadata": {},
   "outputs": [
    {
     "data": {
      "text/plain": [
       "0    repository used developer site training conten...\n",
       "1                            used assignments cogs 108\n",
       "2    code used microsoft learn modules support azur...\n",
       "3        create card based data coming back github api\n",
       "6                    exercise js constructor functions\n",
       "Name: clean, dtype: object"
      ]
     },
     "execution_count": 10,
     "metadata": {},
     "output_type": "execute_result"
    }
   ],
   "source": [
    "df['clean'].head()"
   ]
  },
  {
   "cell_type": "markdown",
   "metadata": {},
   "source": [
    "# Look at the code below to understand the function clean more clearly#"
   ]
  },
  {
   "cell_type": "code",
   "execution_count": 61,
   "metadata": {},
   "outputs": [
    {
     "data": {
      "text/plain": [
       "['hello',\n",
       " ',',\n",
       " 'this',\n",
       " '1',\n",
       " 'sentence',\n",
       " 'is',\n",
       " 'just',\n",
       " 'for',\n",
       " 'understanding',\n",
       " 'the',\n",
       " 'function',\n",
       " '.']"
      ]
     },
     "execution_count": 61,
     "metadata": {},
     "output_type": "execute_result"
    }
   ],
   "source": [
    "line = \"hello, this 1 sentence is just for understanding the function.       \"\n",
    "tok = word_tokenize(line.strip())\n",
    "tok"
   ]
  },
  {
   "cell_type": "code",
   "execution_count": 62,
   "metadata": {},
   "outputs": [],
   "source": [
    "cle = [i for i in tok if i not in stopwords.words('english')]"
   ]
  },
  {
   "cell_type": "code",
   "execution_count": 63,
   "metadata": {},
   "outputs": [
    {
     "data": {
      "text/plain": [
       "['hello', ',', '1', 'sentence', 'understanding', 'function', '.']"
      ]
     },
     "execution_count": 63,
     "metadata": {},
     "output_type": "execute_result"
    }
   ],
   "source": [
    "cle"
   ]
  },
  {
   "cell_type": "code",
   "execution_count": 66,
   "metadata": {},
   "outputs": [
    {
     "data": {
      "text/plain": [
       "['hello', '1', 'sentence', 'understanding', 'function']"
      ]
     },
     "execution_count": 66,
     "metadata": {},
     "output_type": "execute_result"
    }
   ],
   "source": [
    "punctuations = list(string.punctuation)\n",
    "cle = [i.strip(''.join(punctuations)) for i in cle if i not in punctuations]\n",
    "cle"
   ]
  },
  {
   "cell_type": "code",
   "execution_count": 67,
   "metadata": {},
   "outputs": [
    {
     "data": {
      "text/plain": [
       "'hello 1 sentence understanding function'"
      ]
     },
     "execution_count": 67,
     "metadata": {},
     "output_type": "execute_result"
    }
   ],
   "source": [
    "' '.join(cle)"
   ]
  },
  {
   "cell_type": "code",
   "execution_count": null,
   "metadata": {},
   "outputs": [],
   "source": []
  }
 ],
 "metadata": {
  "kernelspec": {
   "display_name": "Python 3",
   "language": "python",
   "name": "python3"
  },
  "language_info": {
   "codemirror_mode": {
    "name": "ipython",
    "version": 3
   },
   "file_extension": ".py",
   "mimetype": "text/x-python",
   "name": "python",
   "nbconvert_exporter": "python",
   "pygments_lexer": "ipython3",
   "version": "3.7.7"
  }
 },
 "nbformat": 4,
 "nbformat_minor": 4
}
