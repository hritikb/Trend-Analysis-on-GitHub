{
 "cells": [
  {
   "cell_type": "code",
   "execution_count": 1,
   "metadata": {},
   "outputs": [],
   "source": [
    "import pandas as pd"
   ]
  },
  {
   "cell_type": "code",
   "execution_count": 2,
   "metadata": {},
   "outputs": [],
   "source": [
    "df = pd.read_csv('Github_Data_2020_ready_for_text_analysis.csv')"
   ]
  },
  {
   "cell_type": "code",
   "execution_count": 6,
   "metadata": {},
   "outputs": [
    {
     "data": {
      "text/html": [
       "<div>\n",
       "<style scoped>\n",
       "    .dataframe tbody tr th:only-of-type {\n",
       "        vertical-align: middle;\n",
       "    }\n",
       "\n",
       "    .dataframe tbody tr th {\n",
       "        vertical-align: top;\n",
       "    }\n",
       "\n",
       "    .dataframe thead th {\n",
       "        text-align: right;\n",
       "    }\n",
       "</style>\n",
       "<table border=\"1\" class=\"dataframe\">\n",
       "  <thead>\n",
       "    <tr style=\"text-align: right;\">\n",
       "      <th></th>\n",
       "      <th>Unnamed: 0</th>\n",
       "      <th>id</th>\n",
       "      <th>node_id</th>\n",
       "      <th>name</th>\n",
       "      <th>full_name</th>\n",
       "      <th>private</th>\n",
       "      <th>html_url</th>\n",
       "      <th>description</th>\n",
       "      <th>fork</th>\n",
       "      <th>url</th>\n",
       "      <th>...</th>\n",
       "      <th>owner.type</th>\n",
       "      <th>owner.site_admin</th>\n",
       "      <th>license.key</th>\n",
       "      <th>license.name</th>\n",
       "      <th>license.spdx_id</th>\n",
       "      <th>license.url</th>\n",
       "      <th>license.node_id</th>\n",
       "      <th>license</th>\n",
       "      <th>lang</th>\n",
       "      <th>clean</th>\n",
       "    </tr>\n",
       "  </thead>\n",
       "  <tbody>\n",
       "    <tr>\n",
       "      <th>0</th>\n",
       "      <td>2</td>\n",
       "      <td>311525798</td>\n",
       "      <td>MDEwOlJlcG9zaXRvcnkzMTE1MjU3OTg=</td>\n",
       "      <td>Web-Dev-For-Beginners</td>\n",
       "      <td>microsoft/Web-Dev-For-Beginners</td>\n",
       "      <td>False</td>\n",
       "      <td>https://github.com/microsoft/Web-Dev-For-Begin...</td>\n",
       "      <td>24 Lessons, 12 Weeks, Get Started as a Web Dev...</td>\n",
       "      <td>False</td>\n",
       "      <td>https://api.github.com/repos/microsoft/Web-Dev...</td>\n",
       "      <td>...</td>\n",
       "      <td>Organization</td>\n",
       "      <td>False</td>\n",
       "      <td>mit</td>\n",
       "      <td>MIT License</td>\n",
       "      <td>MIT</td>\n",
       "      <td>https://api.github.com/licenses/mit</td>\n",
       "      <td>MDc6TGljZW5zZTEz</td>\n",
       "      <td>NaN</td>\n",
       "      <td>en</td>\n",
       "      <td>24 lessons 12 weeks get started web developer</td>\n",
       "    </tr>\n",
       "    <tr>\n",
       "      <th>1</th>\n",
       "      <td>3</td>\n",
       "      <td>264323169</td>\n",
       "      <td>MDEwOlJlcG9zaXRvcnkyNjQzMjMxNjk=</td>\n",
       "      <td>graduation</td>\n",
       "      <td>education/graduation</td>\n",
       "      <td>False</td>\n",
       "      <td>https://github.com/education/graduation</td>\n",
       "      <td>$ git remote &lt;graduation&gt; yearbook</td>\n",
       "      <td>False</td>\n",
       "      <td>https://api.github.com/repos/education/graduation</td>\n",
       "      <td>...</td>\n",
       "      <td>Organization</td>\n",
       "      <td>False</td>\n",
       "      <td>NaN</td>\n",
       "      <td>NaN</td>\n",
       "      <td>NaN</td>\n",
       "      <td>NaN</td>\n",
       "      <td>NaN</td>\n",
       "      <td>NaN</td>\n",
       "      <td>en</td>\n",
       "      <td>git remote graduation yearbook</td>\n",
       "    </tr>\n",
       "    <tr>\n",
       "      <th>2</th>\n",
       "      <td>5</td>\n",
       "      <td>361198003</td>\n",
       "      <td>MDEwOlJlcG9zaXRvcnkzNjExOTgwMDM=</td>\n",
       "      <td>rdp</td>\n",
       "      <td>c9ffin/rdp</td>\n",
       "      <td>False</td>\n",
       "      <td>https://github.com/c9ffin/rdp</td>\n",
       "      <td>You can get unlimited rdp for free.</td>\n",
       "      <td>False</td>\n",
       "      <td>https://api.github.com/repos/c9ffin/rdp</td>\n",
       "      <td>...</td>\n",
       "      <td>User</td>\n",
       "      <td>False</td>\n",
       "      <td>NaN</td>\n",
       "      <td>NaN</td>\n",
       "      <td>NaN</td>\n",
       "      <td>NaN</td>\n",
       "      <td>NaN</td>\n",
       "      <td>NaN</td>\n",
       "      <td>en</td>\n",
       "      <td>get unlimited rdp free</td>\n",
       "    </tr>\n",
       "    <tr>\n",
       "      <th>3</th>\n",
       "      <td>6</td>\n",
       "      <td>234170528</td>\n",
       "      <td>MDEwOlJlcG9zaXRvcnkyMzQxNzA1Mjg=</td>\n",
       "      <td>React-Components-Insta-Clone</td>\n",
       "      <td>LambdaSchool/React-Components-Insta-Clone</td>\n",
       "      <td>False</td>\n",
       "      <td>https://github.com/LambdaSchool/React-Componen...</td>\n",
       "      <td>Module Project for Composing React Components ...</td>\n",
       "      <td>False</td>\n",
       "      <td>https://api.github.com/repos/LambdaSchool/Reac...</td>\n",
       "      <td>...</td>\n",
       "      <td>Organization</td>\n",
       "      <td>False</td>\n",
       "      <td>NaN</td>\n",
       "      <td>NaN</td>\n",
       "      <td>NaN</td>\n",
       "      <td>NaN</td>\n",
       "      <td>NaN</td>\n",
       "      <td>NaN</td>\n",
       "      <td>en</td>\n",
       "      <td>module project composing react components pass...</td>\n",
       "    </tr>\n",
       "    <tr>\n",
       "      <th>4</th>\n",
       "      <td>7</td>\n",
       "      <td>243650536</td>\n",
       "      <td>MDEwOlJlcG9zaXRvcnkyNDM2NTA1MzY=</td>\n",
       "      <td>User-Interface-II</td>\n",
       "      <td>LambdaSchool/User-Interface-II</td>\n",
       "      <td>False</td>\n",
       "      <td>https://github.com/LambdaSchool/User-Interface-II</td>\n",
       "      <td>Flexbox Challenge</td>\n",
       "      <td>False</td>\n",
       "      <td>https://api.github.com/repos/LambdaSchool/User...</td>\n",
       "      <td>...</td>\n",
       "      <td>Organization</td>\n",
       "      <td>False</td>\n",
       "      <td>NaN</td>\n",
       "      <td>NaN</td>\n",
       "      <td>NaN</td>\n",
       "      <td>NaN</td>\n",
       "      <td>NaN</td>\n",
       "      <td>NaN</td>\n",
       "      <td>en</td>\n",
       "      <td>flexbox challenge</td>\n",
       "    </tr>\n",
       "  </tbody>\n",
       "</table>\n",
       "<p>5 rows × 99 columns</p>\n",
       "</div>"
      ],
      "text/plain": [
       "   Unnamed: 0         id                           node_id  \\\n",
       "0           2  311525798  MDEwOlJlcG9zaXRvcnkzMTE1MjU3OTg=   \n",
       "1           3  264323169  MDEwOlJlcG9zaXRvcnkyNjQzMjMxNjk=   \n",
       "2           5  361198003  MDEwOlJlcG9zaXRvcnkzNjExOTgwMDM=   \n",
       "3           6  234170528  MDEwOlJlcG9zaXRvcnkyMzQxNzA1Mjg=   \n",
       "4           7  243650536  MDEwOlJlcG9zaXRvcnkyNDM2NTA1MzY=   \n",
       "\n",
       "                           name                                  full_name  \\\n",
       "0         Web-Dev-For-Beginners            microsoft/Web-Dev-For-Beginners   \n",
       "1                    graduation                       education/graduation   \n",
       "2                           rdp                                 c9ffin/rdp   \n",
       "3  React-Components-Insta-Clone  LambdaSchool/React-Components-Insta-Clone   \n",
       "4             User-Interface-II             LambdaSchool/User-Interface-II   \n",
       "\n",
       "   private                                           html_url  \\\n",
       "0    False  https://github.com/microsoft/Web-Dev-For-Begin...   \n",
       "1    False            https://github.com/education/graduation   \n",
       "2    False                      https://github.com/c9ffin/rdp   \n",
       "3    False  https://github.com/LambdaSchool/React-Componen...   \n",
       "4    False  https://github.com/LambdaSchool/User-Interface-II   \n",
       "\n",
       "                                         description   fork  \\\n",
       "0  24 Lessons, 12 Weeks, Get Started as a Web Dev...  False   \n",
       "1                $ git remote <graduation> yearbook   False   \n",
       "2                You can get unlimited rdp for free.  False   \n",
       "3  Module Project for Composing React Components ...  False   \n",
       "4                                  Flexbox Challenge  False   \n",
       "\n",
       "                                                 url  ...    owner.type  \\\n",
       "0  https://api.github.com/repos/microsoft/Web-Dev...  ...  Organization   \n",
       "1  https://api.github.com/repos/education/graduation  ...  Organization   \n",
       "2            https://api.github.com/repos/c9ffin/rdp  ...          User   \n",
       "3  https://api.github.com/repos/LambdaSchool/Reac...  ...  Organization   \n",
       "4  https://api.github.com/repos/LambdaSchool/User...  ...  Organization   \n",
       "\n",
       "  owner.site_admin license.key license.name license.spdx_id  \\\n",
       "0            False         mit  MIT License             MIT   \n",
       "1            False         NaN          NaN             NaN   \n",
       "2            False         NaN          NaN             NaN   \n",
       "3            False         NaN          NaN             NaN   \n",
       "4            False         NaN          NaN             NaN   \n",
       "\n",
       "                           license.url   license.node_id license lang  \\\n",
       "0  https://api.github.com/licenses/mit  MDc6TGljZW5zZTEz     NaN   en   \n",
       "1                                  NaN               NaN     NaN   en   \n",
       "2                                  NaN               NaN     NaN   en   \n",
       "3                                  NaN               NaN     NaN   en   \n",
       "4                                  NaN               NaN     NaN   en   \n",
       "\n",
       "                                               clean  \n",
       "0      24 lessons 12 weeks get started web developer  \n",
       "1                     git remote graduation yearbook  \n",
       "2                             get unlimited rdp free  \n",
       "3  module project composing react components pass...  \n",
       "4                                  flexbox challenge  \n",
       "\n",
       "[5 rows x 99 columns]"
      ]
     },
     "execution_count": 6,
     "metadata": {},
     "output_type": "execute_result"
    }
   ],
   "source": [
    "df.head()"
   ]
  },
  {
   "cell_type": "markdown",
   "metadata": {},
   "source": [
    "# Numerical Data"
   ]
  },
  {
   "cell_type": "code",
   "execution_count": 7,
   "metadata": {},
   "outputs": [
    {
     "data": {
      "text/html": [
       "<div>\n",
       "<style scoped>\n",
       "    .dataframe tbody tr th:only-of-type {\n",
       "        vertical-align: middle;\n",
       "    }\n",
       "\n",
       "    .dataframe tbody tr th {\n",
       "        vertical-align: top;\n",
       "    }\n",
       "\n",
       "    .dataframe thead th {\n",
       "        text-align: right;\n",
       "    }\n",
       "</style>\n",
       "<table border=\"1\" class=\"dataframe\">\n",
       "  <thead>\n",
       "    <tr style=\"text-align: right;\">\n",
       "      <th></th>\n",
       "      <th>watchers_count</th>\n",
       "      <th>size</th>\n",
       "      <th>forks_count</th>\n",
       "      <th>open_issues</th>\n",
       "    </tr>\n",
       "  </thead>\n",
       "  <tbody>\n",
       "    <tr>\n",
       "      <th>count</th>\n",
       "      <td>356.000000</td>\n",
       "      <td>3.560000e+02</td>\n",
       "      <td>356.000000</td>\n",
       "      <td>356.000000</td>\n",
       "    </tr>\n",
       "    <tr>\n",
       "      <th>mean</th>\n",
       "      <td>765.786517</td>\n",
       "      <td>7.635213e+04</td>\n",
       "      <td>285.747191</td>\n",
       "      <td>32.766854</td>\n",
       "    </tr>\n",
       "    <tr>\n",
       "      <th>std</th>\n",
       "      <td>2283.421975</td>\n",
       "      <td>4.208247e+05</td>\n",
       "      <td>345.358451</td>\n",
       "      <td>69.142874</td>\n",
       "    </tr>\n",
       "    <tr>\n",
       "      <th>min</th>\n",
       "      <td>0.000000</td>\n",
       "      <td>0.000000e+00</td>\n",
       "      <td>95.000000</td>\n",
       "      <td>0.000000</td>\n",
       "    </tr>\n",
       "    <tr>\n",
       "      <th>25%</th>\n",
       "      <td>2.000000</td>\n",
       "      <td>2.127500e+02</td>\n",
       "      <td>143.750000</td>\n",
       "      <td>0.000000</td>\n",
       "    </tr>\n",
       "    <tr>\n",
       "      <th>50%</th>\n",
       "      <td>27.000000</td>\n",
       "      <td>1.502000e+03</td>\n",
       "      <td>166.000000</td>\n",
       "      <td>5.000000</td>\n",
       "    </tr>\n",
       "    <tr>\n",
       "      <th>75%</th>\n",
       "      <td>484.750000</td>\n",
       "      <td>1.503700e+04</td>\n",
       "      <td>317.750000</td>\n",
       "      <td>32.500000</td>\n",
       "    </tr>\n",
       "    <tr>\n",
       "      <th>max</th>\n",
       "      <td>25031.000000</td>\n",
       "      <td>5.058376e+06</td>\n",
       "      <td>3553.000000</td>\n",
       "      <td>519.000000</td>\n",
       "    </tr>\n",
       "  </tbody>\n",
       "</table>\n",
       "</div>"
      ],
      "text/plain": [
       "       watchers_count          size  forks_count  open_issues\n",
       "count      356.000000  3.560000e+02   356.000000   356.000000\n",
       "mean       765.786517  7.635213e+04   285.747191    32.766854\n",
       "std       2283.421975  4.208247e+05   345.358451    69.142874\n",
       "min          0.000000  0.000000e+00    95.000000     0.000000\n",
       "25%          2.000000  2.127500e+02   143.750000     0.000000\n",
       "50%         27.000000  1.502000e+03   166.000000     5.000000\n",
       "75%        484.750000  1.503700e+04   317.750000    32.500000\n",
       "max      25031.000000  5.058376e+06  3553.000000   519.000000"
      ]
     },
     "execution_count": 7,
     "metadata": {},
     "output_type": "execute_result"
    }
   ],
   "source": [
    "df[['watchers_count', 'size', 'forks_count', 'open_issues']].describe()"
   ]
  },
  {
   "cell_type": "markdown",
   "metadata": {},
   "source": [
    "# Top technologies"
   ]
  },
  {
   "cell_type": "code",
   "execution_count": 9,
   "metadata": {},
   "outputs": [],
   "source": [
    "# Identifying the most popular phrases related to technologies by \n",
    "# focusing on most frequent bigrams\n",
    "\n",
    "import nltk         \n",
    "from nltk.collocations import *      #implements n-gram search tools"
   ]
  },
  {
   "cell_type": "code",
   "execution_count": 13,
   "metadata": {},
   "outputs": [],
   "source": [
    "list_documents = df['clean'].apply(lambda x : x.split()).tolist()\n",
    "# here list_documents is a list of lists containing words in the column 'clean'"
   ]
  },
  {
   "cell_type": "code",
   "execution_count": 14,
   "metadata": {},
   "outputs": [],
   "source": [
    "# finding bigrams document-wise and avoiding corpus wise by using from_documents\n",
    "\n",
    "bigram_measures = nltk.collocations.BigramAssocMeasures()\n",
    "bigram_finder = BigramCollocationFinder.from_documents(list_documents)"
   ]
  },
  {
   "cell_type": "code",
   "execution_count": 20,
   "metadata": {},
   "outputs": [],
   "source": [
    "bigram_finder.apply_freq_filter(3)  #considering bigrams with at least three occurences"
   ]
  },
  {
   "cell_type": "code",
   "execution_count": 22,
   "metadata": {},
   "outputs": [],
   "source": [
    "bigrams = bigram_finder.nbest(bigram_measures.raw_freq, 20)\n",
    "# we get top 20 bigrams according to raw_freq measure"
   ]
  },
  {
   "cell_type": "code",
   "execution_count": 23,
   "metadata": {},
   "outputs": [],
   "source": [
    "# now we find scores of these bigrams i.e. (here) the frequency corresponding to each\n",
    "\n",
    "scores = bigram_finder.score_ngrams(bigram_measures.raw_freq)"
   ]
  },
  {
   "cell_type": "code",
   "execution_count": 24,
   "metadata": {},
   "outputs": [],
   "source": [
    "ngram = list(bigram_finder.ngram_fd.items())   # bigram_finder.ngram_fd is a dictionary"
   ]
  },
  {
   "cell_type": "code",
   "execution_count": 30,
   "metadata": {},
   "outputs": [],
   "source": [
    "ngram.sort(key = lambda item: item[-1], reverse = True)"
   ]
  },
  {
   "cell_type": "code",
   "execution_count": 68,
   "metadata": {},
   "outputs": [
    {
     "data": {
      "text/plain": [
       "[(('open', 'source'), 22),\n",
       " (('hacktoberfest', '2020'), 7),\n",
       " (('pfm', 'c'), 6),\n",
       " (('c', 'musicians'), 6),\n",
       " (('starter', 'project'), 5),\n",
       " (('let', 's'), 5),\n",
       " (('contributing', 'open'), 5),\n",
       " (('data', 'structures'), 4),\n",
       " (('second', 'task'), 4),\n",
       " (('example', 'repo'), 4)]"
      ]
     },
     "execution_count": 68,
     "metadata": {},
     "output_type": "execute_result"
    }
   ],
   "source": [
    "ngram[:10]"
   ]
  },
  {
   "cell_type": "code",
   "execution_count": 35,
   "metadata": {},
   "outputs": [],
   "source": [
    "frequency = [(' '.join(k), v) for k, v in ngram]\n",
    "\n",
    "# this just joins the tuple containing bigrams"
   ]
  },
  {
   "cell_type": "code",
   "execution_count": 58,
   "metadata": {},
   "outputs": [],
   "source": [
    "df = pd.DataFrame(frequency)"
   ]
  },
  {
   "cell_type": "code",
   "execution_count": 59,
   "metadata": {},
   "outputs": [
    {
     "data": {
      "text/html": [
       "<div>\n",
       "<style scoped>\n",
       "    .dataframe tbody tr th:only-of-type {\n",
       "        vertical-align: middle;\n",
       "    }\n",
       "\n",
       "    .dataframe tbody tr th {\n",
       "        vertical-align: top;\n",
       "    }\n",
       "\n",
       "    .dataframe thead th {\n",
       "        text-align: right;\n",
       "    }\n",
       "</style>\n",
       "<table border=\"1\" class=\"dataframe\">\n",
       "  <thead>\n",
       "    <tr style=\"text-align: right;\">\n",
       "      <th></th>\n",
       "      <th>0</th>\n",
       "      <th>1</th>\n",
       "    </tr>\n",
       "  </thead>\n",
       "  <tbody>\n",
       "    <tr>\n",
       "      <th>0</th>\n",
       "      <td>open source</td>\n",
       "      <td>22</td>\n",
       "    </tr>\n",
       "    <tr>\n",
       "      <th>1</th>\n",
       "      <td>hacktoberfest 2020</td>\n",
       "      <td>7</td>\n",
       "    </tr>\n",
       "    <tr>\n",
       "      <th>2</th>\n",
       "      <td>pfm c</td>\n",
       "      <td>6</td>\n",
       "    </tr>\n",
       "    <tr>\n",
       "      <th>3</th>\n",
       "      <td>c musicians</td>\n",
       "      <td>6</td>\n",
       "    </tr>\n",
       "    <tr>\n",
       "      <th>4</th>\n",
       "      <td>starter project</td>\n",
       "      <td>5</td>\n",
       "    </tr>\n",
       "  </tbody>\n",
       "</table>\n",
       "</div>"
      ],
      "text/plain": [
       "                    0   1\n",
       "0         open source  22\n",
       "1  hacktoberfest 2020   7\n",
       "2               pfm c   6\n",
       "3         c musicians   6\n",
       "4     starter project   5"
      ]
     },
     "execution_count": 59,
     "metadata": {},
     "output_type": "execute_result"
    }
   ],
   "source": [
    "df.head()"
   ]
  },
  {
   "cell_type": "code",
   "execution_count": 60,
   "metadata": {},
   "outputs": [],
   "source": [
    "import matplotlib.pyplot as plt"
   ]
  },
  {
   "cell_type": "code",
   "execution_count": 61,
   "metadata": {},
   "outputs": [],
   "source": [
    "plt.style.use('ggplot')"
   ]
  },
  {
   "cell_type": "code",
   "execution_count": 62,
   "metadata": {},
   "outputs": [
    {
     "data": {
      "text/html": [
       "<div>\n",
       "<style scoped>\n",
       "    .dataframe tbody tr th:only-of-type {\n",
       "        vertical-align: middle;\n",
       "    }\n",
       "\n",
       "    .dataframe tbody tr th {\n",
       "        vertical-align: top;\n",
       "    }\n",
       "\n",
       "    .dataframe thead th {\n",
       "        text-align: right;\n",
       "    }\n",
       "</style>\n",
       "<table border=\"1\" class=\"dataframe\">\n",
       "  <thead>\n",
       "    <tr style=\"text-align: right;\">\n",
       "      <th></th>\n",
       "      <th>1</th>\n",
       "    </tr>\n",
       "    <tr>\n",
       "      <th>0</th>\n",
       "      <th></th>\n",
       "    </tr>\n",
       "  </thead>\n",
       "  <tbody>\n",
       "    <tr>\n",
       "      <th>open source</th>\n",
       "      <td>22</td>\n",
       "    </tr>\n",
       "    <tr>\n",
       "      <th>hacktoberfest 2020</th>\n",
       "      <td>7</td>\n",
       "    </tr>\n",
       "    <tr>\n",
       "      <th>pfm c</th>\n",
       "      <td>6</td>\n",
       "    </tr>\n",
       "    <tr>\n",
       "      <th>c musicians</th>\n",
       "      <td>6</td>\n",
       "    </tr>\n",
       "    <tr>\n",
       "      <th>starter project</th>\n",
       "      <td>5</td>\n",
       "    </tr>\n",
       "  </tbody>\n",
       "</table>\n",
       "</div>"
      ],
      "text/plain": [
       "                     1\n",
       "0                     \n",
       "open source         22\n",
       "hacktoberfest 2020   7\n",
       "pfm c                6\n",
       "c musicians          6\n",
       "starter project      5"
      ]
     },
     "execution_count": 62,
     "metadata": {},
     "output_type": "execute_result"
    }
   ],
   "source": [
    "df.set_index([0], inplace = True)\n",
    "df.head()"
   ]
  },
  {
   "cell_type": "code",
   "execution_count": 67,
   "metadata": {},
   "outputs": [
    {
     "data": {
      "image/png": "[encoded data removed]",
      "text/plain": [
       "<Figure size 432x288 with 1 Axes>"
      ]
     },
     "metadata": {},
     "output_type": "display_data"
    }
   ],
   "source": [
    "df.sort_values(by = [1], ascending = False).head(25).plot(kind = 'barh')\n",
    "plt.title('Trending Technologies')\n",
    "plt.ylabel('Technology')\n",
    "plt.xlabel('Popularity')\n",
    "plt.legend().set_visible(False)\n",
    "plt.show()"
   ]
  }
 ],
 "metadata": {
  "kernelspec": {
   "display_name": "Python 3",
   "language": "python",
   "name": "python3"
  },
  "language_info": {
   "codemirror_mode": {
    "name": "ipython",
    "version": 3
   },
   "file_extension": ".py",
   "mimetype": "text/x-python",
   "name": "python",
   "nbconvert_exporter": "python",
   "pygments_lexer": "ipython3",
   "version": "3.7.7"
  }
 },
 "nbformat": 4,
 "nbformat_minor": 4
}
